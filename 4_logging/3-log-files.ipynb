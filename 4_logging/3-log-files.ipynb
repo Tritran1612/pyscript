{
 "cells": [
  {
   "cell_type": "markdown",
   "id": "7f76a303",
   "metadata": {},
   "source": [
    "# Logging to Files\n",
    "\n",
    "## Basic File Logging with `FileHandler`\n",
    "\n",
    "- Use `logging.FileHandler` to write log records to a file.\n",
    "- `mode='a'` (append) preserves existing logs; `mode='w'` (write) overwrites on each run.\n",
    "- You can specify `encoding` (e.g., `'utf-8'`) and `delay=True` to open the file only on first write.\n",
    "\n",
    "## Size-Based Rotation with `RotatingFileHandler`\n",
    "\n",
    "- `RotatingFileHandler` rotates when the file reaches `maxBytes`.\n",
    "- `backupCount` determines how many old files to keep (`.1`, `.2`, …).\n",
    "- New rotations rename existing backups, deleting the oldest beyond `backupCount`.\n",
    "\n",
    "## Time-Based Rotation with `TimedRotatingFileHandler`\n",
    "\n",
    "- `TimedRotatingFileHandler` rotates based on elapsed time (`when`, `interval`).\n",
    "- Common `when` values (case insensitive): `'S'`, `'M'`, `'H'`, `'D'`, `'midnight'`, `'W0'`-`'W6'`\n",
    "  - **`'S'`** – Rotate every _N_ **seconds** (as given by `interval`), useful for very short-lived scripts or testing.\n",
    "  - **`'M'`** – Rotate every _N_ **minutes**, good for high-volume services where hourly isn’t fine-grained enough.\n",
    "  - **`'H'`** – Rotate every _N_ **hours**, often used for long-running daemons that batch logs hourly.\n",
    "  - **`'D'`** – Rotate every _N_ **days**, for simple daily log files without tying to midnight.\n",
    "  - **`'midnight'`** – Rotate once per day exactly at midnight (local time), regardless of `interval`, ideal for calendar-aligned logs.\n",
    "  - **`'W0'`–`'W6'`** – Rotate weekly on a specific weekday, where `W0` = Monday through `W6` = Sunday. Use `interval` weeks between rotations.\n",
    "- `backupCount` limits number of rotated files; use `.suffix` to customize timestamp format."
   ]
  },
  {
   "cell_type": "markdown",
   "id": "10b41fc8",
   "metadata": {},
   "source": [
    "## FileHandler"
   ]
  },
  {
   "cell_type": "markdown",
   "id": "6d3ac820",
   "metadata": {},
   "source": []
  },
  {
   "cell_type": "code",
   "execution_count": 17,
   "id": "0794f0db",
   "metadata": {},
   "outputs": [
    {
     "name": "stdout",
     "output_type": "stream",
     "text": [
      "Basic logging setup\n"
     ]
    }
   ],
   "source": [
    "import logging\n",
    "\n",
    "print(\"Basic logging setup\")\n",
    "\n",
    "basic_logger = logging.getLogger(\"file.basic\")\n",
    "basic_logger.setLevel(logging.DEBUG)\n",
    "\n",
    "basic_fh = logging.FileHandler(\"basic.log\",delay=True,encoding ='utf-8')\n",
    "basic_fh.setLevel(logging.INFO)\n",
    "\n",
    "basic_logger.addHandler(basic_fh)\n",
    "\n",
    "basic_logger.info(\"This is an info message\")"
   ]
  },
  {
   "cell_type": "markdown",
   "id": "9f4763b3",
   "metadata": {},
   "source": [
    "## RotatingFileHandler"
   ]
  },
  {
   "cell_type": "code",
   "execution_count": 8,
   "id": "4200d7a5",
   "metadata": {},
   "outputs": [
    {
     "name": "stdout",
     "output_type": "stream",
     "text": [
      "Basic logging setup\n"
     ]
    }
   ],
   "source": [
    "import logging\n",
    "import os\n",
    "import logging.handlers\n",
    "import time\n",
    "print(\"Basic logging setup\")\n",
    "\n",
    "basic_logger = logging.getLogger(\"file.basic\")\n",
    "basic_logger.setLevel(logging.DEBUG)\n",
    "\n",
    "basic_fh = logging.FileHandler(\"basic.log\",delay=True,encoding ='utf-8')\n",
    "basic_fh.setLevel(logging.INFO)\n",
    "\n",
    "basic_logger.addHandler(basic_fh)\n",
    "\n",
    "basic_logger.info(\"This is an info messagTimedRotatingFileHandlere\")\n",
    "rotating_logs_filename = \"rotating.log\"\n",
    "for file_name in os.listdir(\".\"):\n",
    "    if file_name.startswith(rotating_logs_filename):\n",
    "        os.remove(file_name)\n",
    "\n",
    "rotating_logger = logging.getLogger(\"file.rotating\")\n",
    "rotating_logger.setLevel(logging.DEBUG)\n",
    "\n",
    "rotating_fh = logging.handlers.RotatingFileHandler(\n",
    "    rotating_logs_filename,\n",
    "    maxBytes=100,\n",
    "    backupCount=5,\n",
    "    encoding ='utf-8')\n",
    "\n",
    "rotating_fh.setFormatter(\n",
    "    logging.Formatter(\"%(levelname)s - %(message)s\")\n",
    ")\n",
    "\n",
    "rotating_logger.addHandler(rotating_fh)\n",
    "\n",
    "for i in range(30):\n",
    "    rotating_logger.info(f\"This is info message {i + 1}\")\n",
    "    time.sleep(0.1)\n",
    "\n"
   ]
  },
  {
   "cell_type": "markdown",
   "id": "7802e54b",
   "metadata": {},
   "source": [
    "## TimedRotatingFileHandler"
   ]
  },
  {
   "cell_type": "code",
   "execution_count": 16,
   "id": "115fa4bf",
   "metadata": {},
   "outputs": [
    {
     "name": "stdout",
     "output_type": "stream",
     "text": [
      "Basic logging setup with TimedRotatingFileHandler\n"
     ]
    }
   ],
   "source": [
    "import logging\n",
    "import os\n",
    "import logging.handlers\n",
    "import time\n",
    "\n",
    "def clean_log_files(base_name:str):\n",
    "    for file_name in os.listdir(\".\"):\n",
    "        if file_name.startswith(base_name):\n",
    "            os.remove(file_name)\n",
    "\n",
    "print(\"Basic logging setup with TimedRotatingFileHandler\")\n",
    "\n",
    "basic_logger = logging.getLogger(\"file.timed_rotating\")\n",
    "basic_logger.setLevel(logging.DEBUG)\n",
    "\n",
    "\n",
    "basic_fh = logging.FileHandler(\"basic.log\",delay=True,encoding ='utf-8')\n",
    "basic_fh.setLevel(logging.INFO)\n",
    "\n",
    "basic_logger.addHandler(basic_fh)\n",
    "\n",
    "rotating_logs_filename = \"rotating.log\"\n",
    "clean_log_files(rotating_logs_filename)\n",
    "\n",
    "timed_rotating_logs_filename = \"timedrotatingfile.log\"\n",
    "clean_log_files(timed_rotating_logs_filename)\n"
   ]
  }
 ],
 "metadata": {
  "kernelspec": {
   "display_name": "venv (3.12.3)",
   "language": "python",
   "name": "python3"
  },
  "language_info": {
   "codemirror_mode": {
    "name": "ipython",
    "version": 3
   },
   "file_extension": ".py",
   "mimetype": "text/x-python",
   "name": "python",
   "nbconvert_exporter": "python",
   "pygments_lexer": "ipython3",
   "version": "3.12.3"
  }
 },
 "nbformat": 4,
 "nbformat_minor": 5
}
