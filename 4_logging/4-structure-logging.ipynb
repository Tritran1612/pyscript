{
 "cells": [
  {
   "cell_type": "markdown",
   "id": "8f7db39e",
   "metadata": {},
   "source": [
    "# Introduction to Structured Logging\n",
    "\n",
    "- Plain-text logs are hard to parse and brittle to format changes.\n",
    "- Structured logging records events as key-value data, making machine parsing trivial.\n",
    "- JSON is a de-facto standard: human-readable yet easily ingested by ELK, Splunk, DataDog, etc.\n",
    "- Python’s `python-json-logger` integrates JSON output into the standard `logging` workflow.\n",
    "\n",
    "## Configuring `python-json-logger`\n",
    "\n",
    "- Install via `pip install python-json-logger==3.3.0` (for consistency, I'm pinning the version; removing it will install the latest version available).\n",
    "- Replace `logging.Formatter` with `pythonjsonlogger.JsonFormatter`.\n",
    "- Specify a format string listing the LogRecord attributes you want as JSON keys.\n",
    "- Attach to any `Handler` just like a normal `Formatter`.\n",
    "\n",
    "## Logging with Extra Context\n",
    "\n",
    "- Pass a dict to the `extra` parameter of `logger.<level>()`.\n",
    "- Keys in `extra` become top-level JSON fields.\n",
    "- Use for request IDs, user IDs, session tokens, or any domain data.\n",
    "\n",
    "## Logging Exceptions as JSON\n",
    "\n",
    "- Use `logger.exception(...)` inside an `except` block.\n",
    "- The `JsonFormatter` automatically adds an `exc_info` key with the traceback.\n",
    "- This preserves full error context for downstream analysis."
   ]
  },
  {
   "cell_type": "code",
   "execution_count": 15,
   "id": "cc30c386",
   "metadata": {},
   "outputs": [],
   "source": [
    "import logging\n",
    "import sys\n",
    "from pythonjsonlogger import jsonlogger\n",
    "\n"
   ]
  }
 ],
 "metadata": {
  "kernelspec": {
   "display_name": "venv (3.12.3)",
   "language": "python",
   "name": "python3"
  },
  "language_info": {
   "codemirror_mode": {
    "name": "ipython",
    "version": 3
   },
   "file_extension": ".py",
   "mimetype": "text/x-python",
   "name": "python",
   "nbconvert_exporter": "python",
   "pygments_lexer": "ipython3",
   "version": "3.12.3"
  }
 },
 "nbformat": 4,
 "nbformat_minor": 5
}
