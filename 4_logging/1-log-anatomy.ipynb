{
 "cells": [
  {
   "cell_type": "markdown",
   "id": "296db75e",
   "metadata": {},
   "source": [
    " ## Python Logging Anatomy\n",
    "\n",
    "\n",
    "- Python’s logging module has five core components: **Loggers, Log Records, Handlers, Formatters and Filters.**\n",
    "- Loggers are hierarchical objects your code calls to emit messages at various severity levels.\n",
    "- Each call to a logger creates a LogRecord capturing metadata: level, message, timestamp, source, thread/process IDs, exception info, etc.\n",
    "- Handlers attached to loggers dispatch records to destinations (console, files, network).\n",
    "- Formatters define how a LogRecord is rendered into the final string emitted by a handler."
   ]
  },
  {
   "cell_type": "code",
   "execution_count": 1,
   "id": "2686821b",
   "metadata": {},
   "outputs": [
    {
     "name": "stdout",
     "output_type": "stream",
     "text": [
      "Root logger: name=root, level=WARNING\n",
      "App logger: name=app, level=NOTSET, parent=root\n",
      "Network logger: name=app.network, level=NOTSET, parent=app\n"
     ]
    }
   ],
   "source": [
    "import logging\n",
    "\n",
    "root_logger = logging.getLogger()\n",
    "print(f\"Root logger: name={root_logger.name}, level={logging.getLevelName(root_logger.level)}\")\n",
    "\n",
    "app_logger = logging.getLogger(\"app\")\n",
    "print(f\"App logger: name={app_logger.name}, level={logging.getLevelName(app_logger.level)}, parent={app_logger.parent.name}\")\n",
    "\n",
    "network_logger = logging.getLogger(\"app.network\")\n",
    "print(f\"Network logger: name={network_logger.name}, level={logging.getLevelName(network_logger.level)}, parent={network_logger.parent.name}\")\n"
   ]
  },
  {
   "cell_type": "markdown",
   "id": "cae400f4",
   "metadata": {},
   "source": [
    "## Log Records\n",
    "\n",
    "- Each logging call (logger.info(), logger.error(), etc.) creates a LogRecord object behind the scenes.\n",
    "- A LogRecord includes attributes such as **name, levelno, levelname, pathname, lineno, funcName, asctime, message**, plus any user-supplied extra data.\n",
    "- Handlers and formatters use these attributes to filter and render the log entry."
   ]
  },
  {
   "cell_type": "code",
   "execution_count": 6,
   "id": "51c81663",
   "metadata": {},
   "outputs": [
    {
     "name": "stdout",
     "output_type": "stream",
     "text": [
      "Log Record:\n",
      "name: example\n",
      "pathname: /path/to/file.py\n",
      "lineno: 42\n",
      "msg: This is a log message\n"
     ]
    }
   ],
   "source": [
    "from logging import LogRecord\n",
    "\n",
    "record = LogRecord(\n",
    "    name=\"example\",\n",
    "    level=logging.INFO,\n",
    "    pathname=\"/path/to/file.py\",\n",
    "    lineno=42,\n",
    "    msg=\"This is a log message\",\n",
    "    args=(),\n",
    "    exc_info=None\n",
    ")\n",
    "\n",
    "print(\"Log Record:\")\n",
    "for attr  in (\"name\",  \"pathname\", \"lineno\", \"msg\"):\n",
    "    print(f\"{attr }: {getattr(record,attr)}\")"
   ]
  },
  {
   "cell_type": "markdown",
   "id": "5fe88ae8",
   "metadata": {},
   "source": [
    "## Handlers\n",
    "\n",
    "- Handlers determine where log records are sent (console, file, network, etc.).\n",
    "- Each handler has its own level: it filters out any record whose level is below its threshold.\n",
    "- Common handlers include:\n",
    "    - StreamHandler (console),\n",
    "    - FileHandler (single file),\n",
    "    - RotatingFileHandler,\n",
    "    - TimedRotatingFileHandler,\n",
    "    - SysLogHandler,\n",
    "    - HTTPHandler,\n",
    "    - NullHandler."
   ]
  },
  {
   "cell_type": "code",
   "execution_count": null,
   "id": "50e06640",
   "metadata": {},
   "outputs": [
    {
     "name": "stdout",
     "output_type": "stream",
     "text": [
      "Info message: will show\n",
      "Warning message: will show\n",
      "Error message: will show\n"
     ]
    }
   ],
   "source": [
    "import sys\n",
    "\n",
    "demo_logger = logging.getLogger(\"handler_demo\")\n",
    "demo_logger.setLevel(logging.INFO) # - means it will only allow messages with level INFO or higher to go through (ignores DEBUG).\n",
    "\n",
    "demo_logger.handlers.clear() #Clear Existing Handlers\n",
    "\n",
    "stream_handler = logging.StreamHandler(sys.stdout) # Create a Stream Handler\n",
    "stream_handler.setLevel(logging.DEBUG) # - willing to show even the lowest-level messages.\n",
    "demo_logger.addHandler(stream_handler) #Your logger now knows where to send messages (i.e., via the stream handler you just created).\n",
    "\n",
    "demo_logger.debug(\"Debug message: will not show\") # does not show because the logger's level is set to INFO\n",
    "demo_logger.info(\"Info message: will show\")\n",
    "demo_logger.warning(\"Warning message: will show\")\n",
    "demo_logger.error(\"Error message: will show\")"
   ]
  },
  {
   "cell_type": "markdown",
   "id": "e4e71c18",
   "metadata": {},
   "source": [
    "## Formatters\n",
    "\n",
    "- Formatters specify the layout of the final log message string.\n",
    "- You define a format string using %(attribute)s or %(attribute)d placeholders.\n",
    "- Common attributes: **asctime, levelname, name, message, filename, lineno, funcName, process, thread.**"
   ]
  },
  {
   "cell_type": "code",
   "execution_count": 9,
   "id": "4d1be7a1",
   "metadata": {},
   "outputs": [
    {
     "name": "stdout",
     "output_type": "stream",
     "text": [
      "2025-07-25 14:13:27 - handler_demo - WARNING - Formatted warning\n"
     ]
    }
   ],
   "source": [
    "formatter = logging.Formatter(\n",
    "    \"%(asctime)s - %(name)s - %(levelname)s - %(message)s\",\n",
    "    datefmt=\"%Y-%m-%d %H:%M:%S\"\n",
    ")\n",
    "\n",
    "stream_handler.setFormatter(formatter)\n",
    "\n",
    "demo_logger.warning(\"Formatted warning\")"
   ]
  }
 ],
 "metadata": {
  "kernelspec": {
   "display_name": "venv (3.12.3)",
   "language": "python",
   "name": "python3"
  },
  "language_info": {
   "codemirror_mode": {
    "name": "ipython",
    "version": 3
   },
   "file_extension": ".py",
   "mimetype": "text/x-python",
   "name": "python",
   "nbconvert_exporter": "python",
   "pygments_lexer": "ipython3",
   "version": "3.12.3"
  }
 },
 "nbformat": 4,
 "nbformat_minor": 5
}
