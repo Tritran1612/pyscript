{
 "cells": [
  {
   "cell_type": "markdown",
   "id": "76a110e8",
   "metadata": {},
   "source": [
    "## Context Managers\n",
    "\n",
    "- When opening files or acquiring locks, resources must be released even if errors occur.\n",
    "- Manual try...finally ensures cleanup but adds boilerplate and potential for mistakes."
   ]
  },
  {
   "cell_type": "code",
   "execution_count": null,
   "id": "bfd7a751",
   "metadata": {},
   "outputs": [
    {
     "name": "stdout",
     "output_type": "stream",
     "text": [
      "Closing file.\n",
      "File closed: True\n"
     ]
    }
   ],
   "source": [
    "f = None\n",
    "\n",
    "try:\n",
    "    f = open(\"my_log.txt\", \"w\")\n",
    "    f.write(\"First line\\n\")\n",
    "    f.write(\"Second line\\n\")\n",
    "except:\n",
    "    print(\"Error has occurred.\")\n",
    "finally:\n",
    "    if f:\n",
    "        print(\"Closing file.\")\n",
    "        f.close()\n",
    "\n",
    "print(f\"File closed: {f.closed}\")"
   ]
  },
  {
   "cell_type": "markdown",
   "id": "33147fac",
   "metadata": {},
   "source": [
    "- Files: with open(...) as f: for automatic file closing.\n",
    "- Locks: with threading.Lock(): acquires and releases locks safely.\n",
    "- Tempfiles/Dirs: with tempfile.TemporaryDirectory() as d: creates and cleans up temporary directories.\n",
    "- Context managers from the standard library cover most resource-management needs."
   ]
  },
  {
   "cell_type": "code",
   "execution_count": 3,
   "id": "149d93a6",
   "metadata": {},
   "outputs": [
    {
     "name": "stdout",
     "output_type": "stream",
     "text": [
      "File closed: True\n"
     ]
    }
   ],
   "source": [
    "f = None\n",
    "\n",
    "try:\n",
    "    with open(\"my_log.txt\", \"w\") as f:\n",
    "        f.write(\"First line\\n\")\n",
    "        f.write(\"Second line\\n\")\n",
    "except:\n",
    "    print(\"Error has occurred.\")\n",
    "\n",
    "print(f\"File closed: {f.closed}\")"
   ]
  },
  {
   "cell_type": "code",
   "execution_count": 5,
   "id": "6ddd988c",
   "metadata": {},
   "outputs": [
    {
     "name": "stdout",
     "output_type": "stream",
     "text": [
      "Temporary directory created: /tmp/tmpguceyxtn\n",
      "Test file created: ['test.txt']\n",
      "Temporary directory /tmp/tmpguceyxtn has been cleaned up: [Errno 2] No such file or directory: '/tmp/tmpguceyxtn'\n"
     ]
    }
   ],
   "source": [
    "import tempfile, os\n",
    "\n",
    "dir_name = None\n",
    "\n",
    "with tempfile.TemporaryDirectory() as tempdir:\n",
    "    print(f\"Temporary directory created: {tempdir}\")\n",
    "    \n",
    "    dir_name = tempdir\n",
    "    test_file = os.path.join(tempdir, \"test.txt\")\n",
    "    with open(test_file, \"w\") as f:\n",
    "        f.write(\"This is a test file.\\n\")\n",
    "        \n",
    "    print(f\"Test file created: {os.listdir(tempdir)}\")\n",
    "    \n",
    "try:\n",
    "    content = os.listdir(dir_name)\n",
    "    print(f\"Temporary directory {dir_name} still exists: {content}\")\n",
    "\n",
    "except FileNotFoundError as e:\n",
    "    print(f\"Temporary directory {dir_name} has been cleaned up: {e}\")\n",
    "    "
   ]
  },
  {
   "cell_type": "markdown",
   "id": "90dc1cd9",
   "metadata": {},
   "source": [
    "## Custom Resource Management: Writing Context Managers\n",
    "\n",
    "- Whenever you need custom setup/teardown logic, you can write your own Context Manager.\n",
    "- A context manager ensures that teardown always runs, even if errors occur in the block.\n",
    "- Two approaches: implement __enter__/__exit__ in a class or use the simpler generator-based decorator"
   ]
  },
  {
   "cell_type": "code",
   "execution_count": null,
   "id": "3edad999",
   "metadata": {},
   "outputs": [
    {
     "name": "stdout",
     "output_type": "stream",
     "text": [
      "Setup complete\n",
      "a simple value\n",
      "Inside the block\n",
      "Teardown\n"
     ]
    }
   ],
   "source": [
    "class MyContextManager:\n",
    "    def __init__(self, timeout):\n",
    "        self.timeout = timeout\n",
    "\n",
    "    def __enter__(self):\n",
    "        print(\"Setup complete\")\n",
    "        return \"a simple value\"\n",
    "\n",
    "    def __exit__(self, exception_type, exception_value, traceback):\n",
    "        print(f\"Teardown\")\n",
    "\n",
    "        return True\n",
    "\n",
    "with MyContextManager(timeout=30) as cm:\n",
    "    print(cm) # assgn a simple value\n",
    "    print(\"Inside the block\")\n",
    "    raise ValueError(\"Simulated problem\")"
   ]
  }
 ],
 "metadata": {
  "kernelspec": {
   "display_name": "venv (3.12.3)",
   "language": "python",
   "name": "python3"
  },
  "language_info": {
   "codemirror_mode": {
    "name": "ipython",
    "version": 3
   },
   "file_extension": ".py",
   "mimetype": "text/x-python",
   "name": "python",
   "nbconvert_exporter": "python",
   "pygments_lexer": "ipython3",
   "version": "3.12.3"
  }
 },
 "nbformat": 4,
 "nbformat_minor": 5
}
