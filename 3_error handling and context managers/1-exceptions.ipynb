{
 "cells": [
  {
   "cell_type": "code",
   "execution_count": null,
   "id": "0bb66a17",
   "metadata": {},
   "outputs": [],
   "source": [
    "import inspect, builtins\n",
    "\n",
    "def show_tree(base, level=0, max_depth=1):\n",
    "    if level > max_depth:\n",
    "        return\n",
    "\n",
    "    for name, obj in vars(builtins).items():\n",
    "        if inspect.isclass(obj) and issubclass(obj, base) and obj is not base:\n",
    "            print(\"\\t\" * level + f\"- {name}\")\n",
    "            show_tree(obj, level + 1, max_depth)\n",
    "\n",
    "show_tree(Exception, max_depth=1)"
   ]
  },
  {
   "cell_type": "markdown",
   "id": "abc29b1b",
   "metadata": {},
   "source": [
    "## OSError Family: Filesystem & Network Issues\n",
    "- Signals problems interacting with the operating system: files, permissions, sockets, paths.\n",
    "- Subclasses such as FileNotFoundError, PermissionError, IsADirectoryError, ConnectionRefusedError, and TimeoutError offer granularity.\n",
    "- Catch individual subclasses when you can recover differently (create a missing file, prompt for sudo, retry a connection).\n",
    "- A single except OSError still groups all OS‑level failures when the response is the same (e.g., log and abort)."
   ]
  },
  {
   "cell_type": "code",
   "execution_count": 2,
   "id": "83ddd152",
   "metadata": {},
   "outputs": [
    {
     "name": "stdout",
     "output_type": "stream",
     "text": [
      "File not found\n"
     ]
    }
   ],
   "source": [
    "try:\n",
    "    with open(\"non_existent_file.txt\", \"r\") as file:\n",
    "        content = file.read()\n",
    "except Exception as e:\n",
    "    print(f\"File not found\")\n",
    "    \n",
    "except PermissionError:\n",
    "    print(f\"Permission denied\")\n",
    "    \n",
    "except OSError as os_error:\n",
    "    print(f\"OS error occurred: {os_error}\")"
   ]
  },
  {
   "cell_type": "markdown",
   "id": "b975aff1",
   "metadata": {},
   "source": [
    "## KeyError: Missing Dictionary Keys\n",
    "- Raised when using dict[key] with a key that is absent.\n",
    "- Frequent in config loading, JSON parsing, or environment variable maps.\n",
    "- Mitigation patterns: dict.get(key, default), membership tests (if key in cfg), or a tailored except KeyError.\n",
    "- Treats missing data distinctly from a wrong value (ValueError) or wrong type (TypeError)."
   ]
  },
  {
   "cell_type": "code",
   "execution_count": 3,
   "id": "f0f9d3f5",
   "metadata": {},
   "outputs": [
    {
     "name": "stdout",
     "output_type": "stream",
     "text": [
      "API Key: \n",
      "No api-key available, not possible to call API.\n",
      "Making API call to endpoint /users with key: 12345\n",
      "No required key 'api-key' available, not possible to call API.\n",
      "Making API call to endpoint /users with key: 12345\n"
     ]
    }
   ],
   "source": [
    "config = {\"host\": \"server1\", \"port\": 8080}\n",
    "config2 = {\"host\": \"server1\", \"port\": 8080, \"api-key\": \"12345\"}\n",
    "\n",
    "api_key = config.get(\"api-key\", \"\")\n",
    "print(f\"API Key: {api_key}\")\n",
    "\n",
    "def call_endpoint(config, endpoint):\n",
    "\n",
    "    if \"api-key\" in config:\n",
    "        print(f\"Making API call to endpoint {endpoint} with key: {config['api-key']}\")\n",
    "    else:\n",
    "        print(\"No api-key available, not possible to call API.\")\n",
    "\n",
    "def call_endpoint_exception(config, endpoint):\n",
    "\n",
    "    try:\n",
    "        print(f\"Making API call to endpoint {endpoint} with key: {config['api-key']}\")\n",
    "    except KeyError as missing_key:\n",
    "        print(f\"No required key {missing_key} available, not possible to call API.\")\n",
    "\n",
    "call_endpoint(config, \"/users\")\n",
    "call_endpoint(config2, \"/users\")\n",
    "\n",
    "call_endpoint_exception(config, \"/users\")\n",
    "call_endpoint_exception(config2, \"/users\")"
   ]
  }
 ],
 "metadata": {
  "kernelspec": {
   "display_name": "venv (3.12.3)",
   "language": "python",
   "name": "python3"
  },
  "language_info": {
   "codemirror_mode": {
    "name": "ipython",
    "version": 3
   },
   "file_extension": ".py",
   "mimetype": "text/x-python",
   "name": "python",
   "nbconvert_exporter": "python",
   "pygments_lexer": "ipython3",
   "version": "3.12.3"
  }
 },
 "nbformat": 4,
 "nbformat_minor": 5
}
