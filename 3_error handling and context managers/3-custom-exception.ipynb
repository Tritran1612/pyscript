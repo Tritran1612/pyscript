{
 "cells": [
  {
   "cell_type": "markdown",
   "id": "d730a189",
   "metadata": {},
   "source": [
    "## Simple Custom Exceptions (Inheritance)\n",
    "\n",
    "- Create a new exception by subclassing Exception or another exception class.\n",
    "- Using pass is enough when no extra logic or attributes are needed.\n",
    "- Catch the base class (AutomationError) to handle any related subclass errors in one block.\n",
    "- Use subclasses (FileProcessingError, APICallError) when context-specific handling is required."
   ]
  },
  {
   "cell_type": "code",
   "execution_count": 2,
   "id": "9fcfed3b",
   "metadata": {},
   "outputs": [
    {
     "name": "stdout",
     "output_type": "stream",
     "text": [
      "File error: Failed to process file at path: nonexistent.csv\n"
     ]
    }
   ],
   "source": [
    "class AutomationError(Exception):\n",
    "    pass\n",
    "\n",
    "class FileProcessingError(AutomationError):\n",
    "    pass\n",
    "\n",
    "class APICallError(AutomationError):\n",
    "    pass\n",
    "\n",
    "def process_file(filepath):\n",
    "    raise FileProcessingError(f\"Failed to process file at path: {filepath}\")\n",
    "\n",
    "try:\n",
    "    process_file(\"nonexistent.csv\")\n",
    "except FileProcessingError as e:\n",
    "    print(f\"File error: {e}\")\n",
    "except AutomationError:\n",
    "    print(\"Other automation error occurred.\")"
   ]
  },
  {
   "cell_type": "markdown",
   "id": "37b22b33",
   "metadata": {},
   "source": [
    "## Adding Context with __init__\n",
    "\n",
    "- Override __init__ in your exception class to capture context (e.g., filename, invalid value).\n",
    "- Store custom attributes on self and build a clear message passed to super().__init__().\n",
    "- Inherit from a built-in exception (ValueError) when semantics align, allowing broad catches.\n",
    "- Attribute access (e.key_name) provides extra debugging info in handlers."
   ]
  },
  {
   "cell_type": "code",
   "execution_count": 1,
   "id": "7cb6db5c",
   "metadata": {},
   "outputs": [
    {
     "name": "stdout",
     "output_type": "stream",
     "text": [
      "Timeout cannot be negative for key 'timeout': received '-5'\n",
      "   -> key: timeout\n",
      "   -> value: -5\n"
     ]
    }
   ],
   "source": [
    "class ConfigValueError(ValueError):\n",
    "    \"\"\"Raised when a config value is invalid.\"\"\"\n",
    "    def __init__(self, key_name, invalid_value, message=\"Invalid configuration value.\"):\n",
    "        self.key_name = key_name\n",
    "        self.invalid_value = invalid_value\n",
    "        full_message = f\"{message} for key '{key_name}': received '{invalid_value}'\"\n",
    "        super().__init__(full_message)\n",
    "\n",
    "try:\n",
    "    raise ConfigValueError(\"timeout\", -5, message=\"Timeout cannot be negative\")\n",
    "except ConfigValueError as e:\n",
    "    print(f\"{e}\")\n",
    "    print(f\"   -> key: {e.key_name}\")\n",
    "    print(f\"   -> value: {e.invalid_value}\")"
   ]
  },
  {
   "cell_type": "markdown",
   "id": "227d84b3",
   "metadata": {},
   "source": [
    "## Raising and Catching Enhanced Custom Exceptions\n",
    "- Raise custom exceptions by instantiating them with relevant arguments: raise MyError(arg1, arg2).\n",
    "- In except blocks, catch specific exceptions and access their attributes for tailored recovery or logging.\n",
    "- Fallback except BaseError: catches any related subclass if no more specific handler exists."
   ]
  },
  {
   "cell_type": "code",
   "execution_count": null,
   "id": "6f455672",
   "metadata": {},
   "outputs": [
    {
     "name": "stdout",
     "output_type": "stream",
     "text": [
      "Invalid environment 'dev'. Allowed values: ['staging', 'production']\n",
      "Package 'critical-lib' is missing on host server-production.\n",
      "Deployment to staging with package tool succeeded.\n"
     ]
    }
   ],
   "source": [
    "class DeploymentError(Exception):\n",
    "    pass\n",
    "\n",
    "class InvalidEnvironmentError(DeploymentError):\n",
    "    def __init__(self, env_name, allowed_envs):\n",
    "        self.env_name = env_name\n",
    "        self.allowed_envs = allowed_envs\n",
    "        super().__init__(f\"Invalid environment '{env_name}'. Allowed values: {allowed_envs}\")\n",
    "\n",
    "class PackageMissingError(DeploymentError):\n",
    "    def __init__(self, package_name, host):\n",
    "        self.package_name = package_name\n",
    "        self.host = host\n",
    "        super().__init__(f\"Package '{package_name}' is missing on host {host}.\")\n",
    "\n",
    "def deploy_app(environment, package):\n",
    "    allowed_envs = [\"staging\", \"production\"]\n",
    "\n",
    "    if environment not in allowed_envs:\n",
    "        raise InvalidEnvironmentError(environment, allowed_envs)\n",
    "\n",
    "    if environment == \"production\" and package == \"critical-lib\":\n",
    "        raise PackageMissingError(package, f\"server-{environment}\")\n",
    "\n",
    "    print(f\"Deployment to {environment} with package {package} succeeded.\")\n",
    "\n",
    "\n",
    "for env, pkg in [(\"dev\", \"tool\"), (\"production\", \"critical-lib\"), (\"staging\", \"tool\")]:\n",
    "    try:\n",
    "        deploy_app(env, pkg)\n",
    "    except DeploymentError as e:\n",
    "        print(e)"
   ]
  }
 ],
 "metadata": {
  "kernelspec": {
   "display_name": "venv (3.12.3)",
   "language": "python",
   "name": "python3"
  },
  "language_info": {
   "codemirror_mode": {
    "name": "ipython",
    "version": 3
   },
   "file_extension": ".py",
   "mimetype": "text/x-python",
   "name": "python",
   "nbconvert_exporter": "python",
   "pygments_lexer": "ipython3",
   "version": "3.12.3"
  }
 },
 "nbformat": 4,
 "nbformat_minor": 5
}
