{
 "cells": [
  {
   "cell_type": "markdown",
   "id": "febbaaf8",
   "metadata": {},
   "source": [
    "## zip()\n",
    "is a built-in function that combines multiple iterables (like lists, tuples) element by element into tuples"
   ]
  },
  {
   "cell_type": "code",
   "execution_count": 1,
   "id": "31f1d342",
   "metadata": {},
   "outputs": [
    {
     "name": "stdout",
     "output_type": "stream",
     "text": [
      "Alice 90\n",
      "Bob 85\n",
      "Charlie 88\n"
     ]
    }
   ],
   "source": [
    "names = [\"Alice\", \"Bob\", \"Charlie\"]\n",
    "scores = [90, 85, 88]\n",
    "\n",
    "for name, score in zip(names, scores):\n",
    "    print(name, score)\n"
   ]
  },
  {
   "cell_type": "code",
   "execution_count": 2,
   "id": "453bab47",
   "metadata": {},
   "outputs": [
    {
     "name": "stdout",
     "output_type": "stream",
     "text": [
      "[('Alice', 90), ('Bob', 85), ('Charlie', 88)]\n"
     ]
    }
   ],
   "source": [
    "zipped = list(zip(names, scores))\n",
    "print(zipped)\n"
   ]
  }
 ],
 "metadata": {
  "kernelspec": {
   "display_name": ".venv",
   "language": "python",
   "name": "python3"
  },
  "language_info": {
   "codemirror_mode": {
    "name": "ipython",
    "version": 3
   },
   "file_extension": ".py",
   "mimetype": "text/x-python",
   "name": "python",
   "nbconvert_exporter": "python",
   "pygments_lexer": "ipython3",
   "version": "3.11.7"
  }
 },
 "nbformat": 4,
 "nbformat_minor": 5
}
