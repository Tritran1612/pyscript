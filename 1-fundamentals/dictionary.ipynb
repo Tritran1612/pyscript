{
 "cells": [
  {
   "cell_type": "markdown",
   "id": "38109e8c",
   "metadata": {},
   "source": [
    "ChatGPT said:\n",
    "In Python, a dictionary is a collection of key-value pairs. It's mutable, unordered (before Python 3.7), and allows for fast lookup by key."
   ]
  },
  {
   "cell_type": "code",
   "execution_count": 1,
   "id": "cee0800c",
   "metadata": {},
   "outputs": [
    {
     "name": "stdout",
     "output_type": "stream",
     "text": [
      "{'name': 'Alice', 'age': 25, 'city': 'New York'}\n"
     ]
    }
   ],
   "source": [
    "person = {\n",
    "    \"name\": \"Alice\",\n",
    "    \"age\": 25,\n",
    "    \"city\": \"New York\"\n",
    "}\n",
    "\n",
    "print(person)\n"
   ]
  },
  {
   "cell_type": "code",
   "execution_count": 2,
   "id": "5cde04cc",
   "metadata": {},
   "outputs": [
    {
     "name": "stdout",
     "output_type": "stream",
     "text": [
      "Alice\n",
      "25\n"
     ]
    }
   ],
   "source": [
    "print(person[\"name\"])   # Alice\n",
    "print(person.get(\"age\"))  # 25\n"
   ]
  },
  {
   "cell_type": "markdown",
   "id": "3dacdf73",
   "metadata": {},
   "source": [
    "Modify a Dictionary"
   ]
  },
  {
   "cell_type": "code",
   "execution_count": 5,
   "id": "7e42e977",
   "metadata": {},
   "outputs": [
    {
     "name": "stdout",
     "output_type": "stream",
     "text": [
      "{'name': 'Alice', 'age': 26, 'city': 'New York', 'email': 'a@example.com'}\n"
     ]
    }
   ],
   "source": [
    "person[\"age\"] = 26              # Change value\n",
    "person[\"email\"] = \"a@example.com\"  # Add new key-value pair\n",
    "print(person)"
   ]
  },
  {
   "cell_type": "markdown",
   "id": "a7368bb9",
   "metadata": {},
   "source": [
    "❌ Remove a Key"
   ]
  },
  {
   "cell_type": "code",
   "execution_count": 6,
   "id": "7d5282d6",
   "metadata": {},
   "outputs": [
    {
     "name": "stdout",
     "output_type": "stream",
     "text": [
      "{'name': 'Alice', 'age': 26}\n"
     ]
    }
   ],
   "source": [
    "del person[\"city\"]           # Remove key\n",
    "email = person.pop(\"email\")  # Remove and get the value\n",
    "print(person)"
   ]
  },
  {
   "cell_type": "code",
   "execution_count": 7,
   "id": "71f5f963",
   "metadata": {},
   "outputs": [
    {
     "name": "stdout",
     "output_type": "stream",
     "text": [
      "name Alice\n",
      "age 26\n",
      "name -> Alice\n",
      "age -> 26\n"
     ]
    }
   ],
   "source": [
    "for key in person:\n",
    "    print(key, person[key])\n",
    "\n",
    "# or\n",
    "for key, value in person.items():\n",
    "    print(key, \"->\", value)\n"
   ]
  }
 ],
 "metadata": {
  "kernelspec": {
   "display_name": ".venv",
   "language": "python",
   "name": "python3"
  },
  "language_info": {
   "codemirror_mode": {
    "name": "ipython",
    "version": 3
   },
   "file_extension": ".py",
   "mimetype": "text/x-python",
   "name": "python",
   "nbconvert_exporter": "python",
   "pygments_lexer": "ipython3",
   "version": "3.11.7"
  }
 },
 "nbformat": 4,
 "nbformat_minor": 5
}
