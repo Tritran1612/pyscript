{
 "cells": [
  {
   "cell_type": "markdown",
   "id": "d412921e",
   "metadata": {},
   "source": [
    "In Python, a set is an unordered, mutable collection of unique elements."
   ]
  },
  {
   "cell_type": "code",
   "execution_count": 1,
   "id": "2944493a",
   "metadata": {},
   "outputs": [
    {
     "name": "stdout",
     "output_type": "stream",
     "text": [
      "{1, 2, 3, 4}\n"
     ]
    }
   ],
   "source": [
    "my_set = {1, 2, 2, 3, 4, 4, 4}\n",
    "print(my_set) # Duplicates removed\n"
   ]
  },
  {
   "cell_type": "code",
   "execution_count": 2,
   "id": "67e110d5",
   "metadata": {},
   "outputs": [
    {
     "name": "stdout",
     "output_type": "stream",
     "text": [
      "{1, 3, 4, 5, 6}\n"
     ]
    }
   ],
   "source": [
    "s = {1, 2, 3}\n",
    "\n",
    "s.add(4)         # Add one item\n",
    "s.remove(2)      # Remove item (raises error if not found)\n",
    "s.discard(10)    # Remove item if present, no error if not\n",
    "s.update([5, 6]) # Add multiple items\n",
    "\n",
    "print(s)\n"
   ]
  }
 ],
 "metadata": {
  "kernelspec": {
   "display_name": ".venv",
   "language": "python",
   "name": "python3"
  },
  "language_info": {
   "codemirror_mode": {
    "name": "ipython",
    "version": 3
   },
   "file_extension": ".py",
   "mimetype": "text/x-python",
   "name": "python",
   "nbconvert_exporter": "python",
   "pygments_lexer": "ipython3",
   "version": "3.11.7"
  }
 },
 "nbformat": 4,
 "nbformat_minor": 5
}
