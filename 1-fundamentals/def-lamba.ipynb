{
 "cells": [
  {
   "cell_type": "markdown",
   "id": "c972980a",
   "metadata": {},
   "source": [
    "## lambda()function \n",
    "is a small, anonymous (unnamed) function defined using the lambda keyword. It's often used when you need a simple function for a short period and don't want to formally define it with def.\n",
    "\n",
    "✅ Basic Syntax:\n",
    "\n",
    "lambda arguments: expression\n"
   ]
  },
  {
   "cell_type": "code",
   "execution_count": 1,
   "id": "15781518",
   "metadata": {},
   "outputs": [
    {
     "name": "stdout",
     "output_type": "stream",
     "text": [
      "25\n"
     ]
    }
   ],
   "source": [
    "square = lambda x: x ** 2\n",
    "print(square(5))  # 25\n"
   ]
  },
  {
   "cell_type": "code",
   "execution_count": 2,
   "id": "60013b43",
   "metadata": {},
   "outputs": [
    {
     "name": "stdout",
     "output_type": "stream",
     "text": [
      "7\n"
     ]
    }
   ],
   "source": [
    "add = lambda a, b: a + b\n",
    "print(add(3, 4))  # 7\n"
   ]
  },
  {
   "cell_type": "code",
   "execution_count": 3,
   "id": "97c4bb6e",
   "metadata": {},
   "outputs": [
    {
     "name": "stdout",
     "output_type": "stream",
     "text": [
      "default sorted: [('Service A', 100), ('Service B', 200), ('Service C', 150)]\n",
      "sorted by cost: [('Service A', 100), ('Service C', 150), ('Service B', 200)]\n"
     ]
    }
   ],
   "source": [
    "services = [(\"Service A\", 100), (\"Service B\", 200), (\"Service C\", 150)]\n",
    "\n",
    "print(f\"default sorted: {sorted(services)}\")  # Default sort by first element (name)\n",
    "\n",
    "def sort_by_cost(service):\n",
    "    return service[1]  # Sort by second element (cost)\n",
    "print(f\"sorted by cost: {sorted(services, key=sort_by_cost)}\")  # Sort by cost"
   ]
  },
  {
   "cell_type": "code",
   "execution_count": 4,
   "id": "8cbfd045",
   "metadata": {},
   "outputs": [
    {
     "name": "stdout",
     "output_type": "stream",
     "text": [
      "[1, 4, 9, 16]\n"
     ]
    }
   ],
   "source": [
    "nums = [1, 2, 3, 4]\n",
    "squared = list(map(lambda x: x ** 2, nums))\n",
    "print(squared)  # [1, 4, 9, 16]\n"
   ]
  },
  {
   "cell_type": "code",
   "execution_count": 5,
   "id": "218626b2",
   "metadata": {},
   "outputs": [
    {
     "name": "stdout",
     "output_type": "stream",
     "text": [
      "[2, 4, 6]\n"
     ]
    }
   ],
   "source": [
    "nums = [1, 2, 3, 4, 5, 6]\n",
    "evens = list(filter(lambda x: x % 2 == 0, nums))\n",
    "print(evens)  # [2, 4, 6]\n"
   ]
  }
 ],
 "metadata": {
  "kernelspec": {
   "display_name": ".venv",
   "language": "python",
   "name": "python3"
  },
  "language_info": {
   "codemirror_mode": {
    "name": "ipython",
    "version": 3
   },
   "file_extension": ".py",
   "mimetype": "text/x-python",
   "name": "python",
   "nbconvert_exporter": "python",
   "pygments_lexer": "ipython3",
   "version": "3.11.7"
  }
 },
 "nbformat": 4,
 "nbformat_minor": 5
}
