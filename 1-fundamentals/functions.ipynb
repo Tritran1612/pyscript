{
 "cells": [
  {
   "cell_type": "markdown",
   "id": "6ad5b162",
   "metadata": {},
   "source": [
    "Docstrings"
   ]
  },
  {
   "cell_type": "code",
   "execution_count": null,
   "id": "e173ed8b",
   "metadata": {},
   "outputs": [
    {
     "name": "stdout",
     "output_type": "stream",
     "text": [
      "True\n"
     ]
    }
   ],
   "source": [
    "import socket\n",
    "\n",
    "def check_port(host,port,timeout=5):\n",
    "    try:\n",
    "        # Attempt to create a socket connection to the specified host and port\n",
    "        with socket.create_connection((host, port), timeout=timeout):\n",
    "            return True\n",
    "    \n",
    "    except Exception:\n",
    "        return False\n",
    "    \n",
    "print(check_port('www.google.com', 443))  # Example usage"
   ]
  },
  {
   "cell_type": "markdown",
   "id": "12414ae7",
   "metadata": {},
   "source": [
    "define a function greet_users(names) that takes a list of names and prints a greeting for each name.\n",
    "\n",
    "Example usage:[\"Alice\", \"Bob\", \"Charlie\"]\n",
    "\n",
    "Example output:\n",
    "\n",
    "Greeting Alice\n",
    "\n",
    "Greeting Bob\n",
    "\n",
    "Greeting Charlie"
   ]
  },
  {
   "cell_type": "code",
   "execution_count": 17,
   "id": "2aec8491",
   "metadata": {},
   "outputs": [
    {
     "name": "stdout",
     "output_type": "stream",
     "text": [
      "Greeting Alice\n",
      "Greeting Bob\n",
      "Greeting Charlie\n",
      "None\n"
     ]
    }
   ],
   "source": [
    "def greet_users(names):\n",
    "    for name in names:\n",
    "        print(f\"Greeting {name}\")\n",
    "        \n",
    "print(greet_users([\"Alice\", \"Bob\", \"Charlie\"]))  # Example usage"
   ]
  },
  {
   "cell_type": "markdown",
   "id": "ecec7d06",
   "metadata": {},
   "source": [
    "define a function sum_even(numbers) that takes a list of int and return the sum\n",
    "\n",
    "Test with [1,2,3,4,5,6] (should return 12)"
   ]
  },
  {
   "cell_type": "code",
   "execution_count": 15,
   "id": "53af7ada",
   "metadata": {},
   "outputs": [
    {
     "name": "stdout",
     "output_type": "stream",
     "text": [
      "12\n"
     ]
    }
   ],
   "source": [
    "def sum_even(numbers):\n",
    "    tong = 0\n",
    "    for i in numbers:\n",
    "        if i % 2 == 0:\n",
    "            tong += i\n",
    "    return tong\n",
    "\n",
    "print(sum_even([1,2,3,4,5,6]))  # Example usage"
   ]
  },
  {
   "cell_type": "markdown",
   "id": "c1e04140",
   "metadata": {},
   "source": [
    "## Fibonanci"
   ]
  },
  {
   "cell_type": "code",
   "execution_count": 18,
   "id": "241cd9c1",
   "metadata": {},
   "outputs": [
    {
     "name": "stdout",
     "output_type": "stream",
     "text": [
      "[0, 1, 1, 2, 3, 5, 8, 13, 21, 34]\n"
     ]
    }
   ],
   "source": [
    "def fibonacci(n):\n",
    "    if n <= 0:\n",
    "        return []\n",
    "    elif n == 1:\n",
    "        return [0]\n",
    "    elif n == 2:\n",
    "        return [0, 1]\n",
    "    \n",
    "    fib_sequence = [0, 1]\n",
    "    for i in range(2, n):\n",
    "        next_value = fib_sequence[i-1] + fib_sequence[i-2]\n",
    "        fib_sequence.append(next_value)\n",
    "    \n",
    "    return fib_sequence\n",
    "print(fibonacci(10))  # Example usage"
   ]
  }
 ],
 "metadata": {
  "kernelspec": {
   "display_name": ".venv",
   "language": "python",
   "name": "python3"
  },
  "language_info": {
   "codemirror_mode": {
    "name": "ipython",
    "version": 3
   },
   "file_extension": ".py",
   "mimetype": "text/x-python",
   "name": "python",
   "nbconvert_exporter": "python",
   "pygments_lexer": "ipython3",
   "version": "3.11.7"
  }
 },
 "nbformat": 4,
 "nbformat_minor": 5
}
