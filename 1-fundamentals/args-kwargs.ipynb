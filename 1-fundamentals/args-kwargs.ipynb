{
 "cells": [
  {
   "cell_type": "markdown",
   "id": "cd096a90",
   "metadata": {},
   "source": [
    "## *args and **kwargs\n",
    "allow you to pass a variable number of arguments to a function."
   ]
  },
  {
   "cell_type": "markdown",
   "id": "381c2d3a",
   "metadata": {},
   "source": [
    "*args: Non-keyword (Positional) Arguments\n",
    "\n",
    "- *args lets a function accept any number of positional arguments.\n",
    "\n",
    "- Inside the function, args is a tuple."
   ]
  },
  {
   "cell_type": "markdown",
   "id": "0e4f38c9",
   "metadata": {},
   "source": [
    "**kwargs: Keyword Arguments\n",
    "\n",
    "- **kwargs lets a function accept any number of named arguments.\n",
    "\n",
    "- Inside the function, kwargs is a dictionary."
   ]
  },
  {
   "cell_type": "code",
   "execution_count": 1,
   "id": "a2c8c252",
   "metadata": {},
   "outputs": [
    {
     "name": "stdout",
     "output_type": "stream",
     "text": [
      "Sum: 6\n",
      "Sum: 100\n"
     ]
    }
   ],
   "source": [
    "def add_numbers(*args):\n",
    "    total = sum(args)\n",
    "    print(\"Sum:\", total)\n",
    "\n",
    "add_numbers(1, 2, 3)      # Sum: 6\n",
    "add_numbers(10, 20, 30, 40)  # Sum: 100\n"
   ]
  },
  {
   "cell_type": "code",
   "execution_count": 2,
   "id": "8eee45cd",
   "metadata": {},
   "outputs": [
    {
     "name": "stdout",
     "output_type": "stream",
     "text": [
      "name: Alice\n",
      "age: 30\n"
     ]
    }
   ],
   "source": [
    "def print_info(**kwargs):\n",
    "    for key, value in kwargs.items():\n",
    "        print(f\"{key}: {value}\")\n",
    "\n",
    "print_info(name=\"Alice\", age=30)\n"
   ]
  },
  {
   "cell_type": "code",
   "execution_count": 3,
   "id": "6de50adf",
   "metadata": {},
   "outputs": [
    {
     "name": "stdout",
     "output_type": "stream",
     "text": [
      "Title: User Info\n",
      "Args: (1, 2)\n",
      "Kwargs: {'name': 'Alice', 'age': 30}\n"
     ]
    }
   ],
   "source": [
    "def show_data(title, *args, **kwargs):\n",
    "    print(\"Title:\", title)\n",
    "    print(\"Args:\", args)\n",
    "    print(\"Kwargs:\", kwargs)\n",
    "\n",
    "show_data(\"User Info\", 1, 2, name=\"Alice\", age=30)\n"
   ]
  },
  {
   "cell_type": "code",
   "execution_count": 4,
   "id": "00a3f114",
   "metadata": {},
   "outputs": [
    {
     "name": "stdout",
     "output_type": "stream",
     "text": [
      "Bob is 25 years old.\n",
      "Carol is 40 years old.\n"
     ]
    }
   ],
   "source": [
    "def greet(name, age):\n",
    "    print(f\"{name} is {age} years old.\")\n",
    "\n",
    "args = (\"Bob\", 25)\n",
    "kwargs = {\"name\": \"Carol\", \"age\": 40}\n",
    "\n",
    "greet(*args)     # Bob is 25 years old.\n",
    "greet(**kwargs)  # Carol is 40 years old.\n"
   ]
  },
  {
   "cell_type": "markdown",
   "id": "22ef9802",
   "metadata": {},
   "source": [
    "## * in Call: Unpacking Positional Arguments\n",
    "\n",
    "- Uses *sequence to expand a list or tuple into positional arguments\n",
    "\n",
    "- Sequence length must match the function's positional parameters\n",
    "\n",
    "- Useful for dynamic arguments lists built at runtime"
   ]
  },
  {
   "cell_type": "code",
   "execution_count": 8,
   "id": "c310405a",
   "metadata": {},
   "outputs": [
    {
     "name": "stdout",
     "output_type": "stream",
     "text": [
      "Connecting to localhost on port 8080 with timeout 5\n"
     ]
    }
   ],
   "source": [
    "def connect(host, port ,timeout, *args):\n",
    "    print(f\"Connecting to {host} on port {port} with timeout {timeout}\")\n",
    "\n",
    "params = (\"localhost\", 8080, 5,312,55)\n",
    "connect(*params[:3])  # Connecting to localhost on port 8080 with timeout 5"
   ]
  }
 ],
 "metadata": {
  "kernelspec": {
   "display_name": ".venv",
   "language": "python",
   "name": "python3"
  },
  "language_info": {
   "codemirror_mode": {
    "name": "ipython",
    "version": 3
   },
   "file_extension": ".py",
   "mimetype": "text/x-python",
   "name": "python",
   "nbconvert_exporter": "python",
   "pygments_lexer": "ipython3",
   "version": "3.11.7"
  }
 },
 "nbformat": 4,
 "nbformat_minor": 5
}
