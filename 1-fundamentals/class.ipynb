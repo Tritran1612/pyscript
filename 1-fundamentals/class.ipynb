{
 "cells": [
  {
   "cell_type": "code",
   "execution_count": 1,
   "id": "72dde275",
   "metadata": {},
   "outputs": [
    {
     "name": "stdout",
     "output_type": "stream",
     "text": [
      "Hello, my name is Alice and I am 25 years old.\n"
     ]
    }
   ],
   "source": [
    "class Person:\n",
    "    def __init__(self, name, age):   # Constructor\n",
    "        self.name = name\n",
    "        self.age = age\n",
    "\n",
    "    def greet(self):                 # Method\n",
    "        print(f\"Hello, my name is {self.name} and I am {self.age} years old.\")\n",
    "p1 = Person(\"Alice\", 25)\n",
    "p1.greet()\n"
   ]
  },
  {
   "cell_type": "code",
   "execution_count": 4,
   "id": "750cfc3f",
   "metadata": {},
   "outputs": [
    {
     "name": "stdout",
     "output_type": "stream",
     "text": [
      "False\n",
      "True\n"
     ]
    }
   ],
   "source": [
    "class Person:\n",
    "    def __init__(self, name, age):\n",
    "        self.name = name\n",
    "        self.age = age\n",
    "\n",
    "    def is_adult(self):\n",
    "        return self.age >= 18\n",
    "p2 = Person(\"Bob\", 17)\n",
    "print(p2.is_adult())  # False\n",
    "p2.age = 18\n",
    "print(p2.is_adult())  # True\n"
   ]
  },
  {
   "cell_type": "markdown",
   "id": "6a7d082a",
   "metadata": {},
   "source": [
    "## Inheritance \n",
    "Inheritance allows a class (called a child or subclass) to inherit methods and attributes from another class (called a parent or superclass). This promotes code reuse and supports polymorphism."
   ]
  },
  {
   "cell_type": "code",
   "execution_count": 6,
   "id": "53481cb7",
   "metadata": {},
   "outputs": [
    {
     "name": "stdout",
     "output_type": "stream",
     "text": [
      "Generic Animal makes a sound.\n",
      "Buddy barks.\n"
     ]
    }
   ],
   "source": [
    "# Parent class\n",
    "class Animal:\n",
    "    def __init__(self, name):\n",
    "        self.name = name\n",
    "\n",
    "    def speak(self):\n",
    "        print(f\"{self.name} makes a sound.\")\n",
    "\n",
    "# Child class\n",
    "class Dog(Animal):\n",
    "    def speak(self):\n",
    "        print(f\"{self.name} barks.\")\n",
    "        \n",
    "a = Animal(\"Generic Animal\")\n",
    "a.speak()  # Generic Animal makes a sound.\n",
    "d = Dog(\"Buddy\")\n",
    "d.speak()  # Buddy barks.\n"
   ]
  },
  {
   "cell_type": "markdown",
   "id": "e5f47c46",
   "metadata": {},
   "source": [
    "✅ Using super() to call parent methods"
   ]
  },
  {
   "cell_type": "code",
   "execution_count": 7,
   "id": "59f23423",
   "metadata": {},
   "outputs": [
    {
     "name": "stdout",
     "output_type": "stream",
     "text": [
      "Max makes a sound.\n",
      "Max barks and is a Labrador.\n"
     ]
    }
   ],
   "source": [
    "class Dog(Animal):\n",
    "    def __init__(self, name, breed):\n",
    "        super().__init__(name)  # Call parent constructor\n",
    "        self.breed = breed\n",
    "\n",
    "    def speak(self):\n",
    "        super().speak()         # Call parent method\n",
    "        print(f\"{self.name} barks and is a {self.breed}.\")\n",
    "\n",
    "d = Dog(\"Max\", \"Labrador\")\n",
    "d.speak()\n"
   ]
  }
 ],
 "metadata": {
  "kernelspec": {
   "display_name": ".venv",
   "language": "python",
   "name": "python3"
  },
  "language_info": {
   "codemirror_mode": {
    "name": "ipython",
    "version": 3
   },
   "file_extension": ".py",
   "mimetype": "text/x-python",
   "name": "python",
   "nbconvert_exporter": "python",
   "pygments_lexer": "ipython3",
   "version": "3.11.7"
  }
 },
 "nbformat": 4,
 "nbformat_minor": 5
}
