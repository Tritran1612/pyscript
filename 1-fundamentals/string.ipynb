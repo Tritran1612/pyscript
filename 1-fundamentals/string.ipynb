{
 "cells": [
  {
   "cell_type": "code",
   "execution_count": 1,
   "id": "075b9dc2",
   "metadata": {},
   "outputs": [
    {
     "name": "stdout",
     "output_type": "stream",
     "text": [
      "Minh Tri and Tran Nguyen are friends.\n"
     ]
    }
   ],
   "source": [
    "minh_tri = \"Minh Tri\"\n",
    "tran_nguyen = \"Tran Nguyen\"\n",
    "print(f\"{minh_tri} and {tran_nguyen} are friends.\")"
   ]
  },
  {
   "cell_type": "code",
   "execution_count": 7,
   "id": "4f5a93e3",
   "metadata": {},
   "outputs": [
    {
     "name": "stdout",
     "output_type": "stream",
     "text": [
      "The result of 5 + 3 is 8.\n"
     ]
    }
   ],
   "source": [
    "math = 5 + 3\n",
    "print(f\"The result of 5 + 3 is {math}.\")"
   ]
  }
 ],
 "metadata": {
  "kernelspec": {
   "display_name": ".venv",
   "language": "python",
   "name": "python3"
  },
  "language_info": {
   "codemirror_mode": {
    "name": "ipython",
    "version": 3
   },
   "file_extension": ".py",
   "mimetype": "text/x-python",
   "name": "python",
   "nbconvert_exporter": "python",
   "pygments_lexer": "ipython3",
   "version": "3.11.7"
  }
 },
 "nbformat": 4,
 "nbformat_minor": 5
}
