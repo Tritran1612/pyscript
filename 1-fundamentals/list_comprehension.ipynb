{
 "cells": [
  {
   "cell_type": "markdown",
   "id": "21717490",
   "metadata": {},
   "source": [
    "List comprehension in Python is a concise way to create a list using a single line of code, often replacing a loop.\n"
   ]
  },
  {
   "cell_type": "markdown",
   "id": "143d6ab1",
   "metadata": {},
   "source": [
    "✅ Basic Syntax:\n",
    "\n",
    "\n",
    "new_list = [expression for item in iterable if condition]\n"
   ]
  },
  {
   "cell_type": "markdown",
   "id": "211bfa48",
   "metadata": {},
   "source": [
    "🔹 Example 1: Squares of numbers"
   ]
  },
  {
   "cell_type": "code",
   "execution_count": 1,
   "id": "f069b996",
   "metadata": {},
   "outputs": [
    {
     "name": "stdout",
     "output_type": "stream",
     "text": [
      "[0, 1, 4, 9, 16]\n"
     ]
    }
   ],
   "source": [
    "squares = [x*x for x in range(5)]\n",
    "print(squares)\n"
   ]
  },
  {
   "cell_type": "markdown",
   "id": "ca453bfd",
   "metadata": {},
   "source": [
    "🔹 Example 2: Filter even numbers"
   ]
  },
  {
   "cell_type": "code",
   "execution_count": 3,
   "id": "5a429a32",
   "metadata": {},
   "outputs": [
    {
     "name": "stdout",
     "output_type": "stream",
     "text": [
      "[0, 2, 4, 6, 8]\n"
     ]
    }
   ],
   "source": [
    "evens = [x for x in range(10) if x % 2 == 0]\n",
    "print(evens)"
   ]
  },
  {
   "cell_type": "markdown",
   "id": "5ed5ee9d",
   "metadata": {},
   "source": [
    "🔹 Example 3: Convert strings to uppercase"
   ]
  },
  {
   "cell_type": "code",
   "execution_count": null,
   "id": "71b591dd",
   "metadata": {},
   "outputs": [
    {
     "name": "stdout",
     "output_type": "stream",
     "text": [
      "['ALICE', 'BOB', 'CAROL']\n"
     ]
    }
   ],
   "source": [
    "names = [\"alice\", \"bob\", \"carol\"]\n",
    "upper_names = [name.upper() for name in names]\n",
    "print(upper_names)"
   ]
  },
  {
   "cell_type": "markdown",
   "id": "03ad8dbb",
   "metadata": {},
   "source": [
    "🔹 Example 4: Nested loops in list comprehension\n"
   ]
  },
  {
   "cell_type": "code",
   "execution_count": 5,
   "id": "eed1e3b7",
   "metadata": {},
   "outputs": [
    {
     "name": "stdout",
     "output_type": "stream",
     "text": [
      "[(1, 3), (1, 4), (2, 3), (2, 4)]\n"
     ]
    }
   ],
   "source": [
    "pairs = [(x, y) for x in [1, 2] for y in [3, 4]]\n",
    "print(pairs)\n"
   ]
  },
  {
   "cell_type": "markdown",
   "id": "0a56bf68",
   "metadata": {},
   "source": [
    "🔹 Example 5: Conditional expression (if–else)"
   ]
  },
  {
   "cell_type": "code",
   "execution_count": 6,
   "id": "39b3d15e",
   "metadata": {},
   "outputs": [
    {
     "name": "stdout",
     "output_type": "stream",
     "text": [
      "['even', 'odd', 'even', 'odd', 'even']\n"
     ]
    }
   ],
   "source": [
    "results = [\"even\" if x % 2 == 0 else \"odd\" for x in range(5)]\n",
    "print(results)\n"
   ]
  }
 ],
 "metadata": {
  "kernelspec": {
   "display_name": ".venv",
   "language": "python",
   "name": "python3"
  },
  "language_info": {
   "codemirror_mode": {
    "name": "ipython",
    "version": 3
   },
   "file_extension": ".py",
   "mimetype": "text/x-python",
   "name": "python",
   "nbconvert_exporter": "python",
   "pygments_lexer": "ipython3",
   "version": "3.11.7"
  }
 },
 "nbformat": 4,
 "nbformat_minor": 5
}
