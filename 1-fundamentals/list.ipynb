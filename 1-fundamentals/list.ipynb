{
 "cells": [
  {
   "cell_type": "code",
   "execution_count": 5,
   "id": "0de9acf0",
   "metadata": {},
   "outputs": [
    {
     "name": "stdout",
     "output_type": "stream",
     "text": [
      "['apple', 'banana', 'cherry', 'mango']\n"
     ]
    }
   ],
   "source": [
    "# A list of fruits\n",
    "fruits = [\"apple\", \"banana\", \"cherry\", \"mango\"]\n",
    "\n",
    "print(fruits)\n"
   ]
  },
  {
   "cell_type": "code",
   "execution_count": 2,
   "id": "00a9e2e6",
   "metadata": {},
   "outputs": [
    {
     "name": "stdout",
     "output_type": "stream",
     "text": [
      "['apple', 'orange', 'cherry']\n"
     ]
    }
   ],
   "source": [
    "fruits = [\"apple\", \"banana\", \"cherry\"]\n",
    "fruits[1] = \"orange\"  # Change 'banana' to 'orange'\n",
    "print(fruits)\n"
   ]
  },
  {
   "cell_type": "code",
   "execution_count": 3,
   "id": "c83fe9c2",
   "metadata": {},
   "outputs": [
    {
     "name": "stdout",
     "output_type": "stream",
     "text": [
      "['apple', 'orange', 'cherry', 'mango']\n"
     ]
    }
   ],
   "source": [
    "fruits.append(\"mango\")\n",
    "print(fruits)\n"
   ]
  },
  {
   "cell_type": "code",
   "execution_count": 4,
   "id": "f4a18cbd",
   "metadata": {},
   "outputs": [
    {
     "name": "stdout",
     "output_type": "stream",
     "text": [
      "['apple', 'kiwi', 'orange', 'cherry', 'mango']\n"
     ]
    }
   ],
   "source": [
    "fruits.insert(1, \"kiwi\")  # Insert at index 1\n",
    "print(fruits)\n"
   ]
  },
  {
   "cell_type": "code",
   "execution_count": 5,
   "id": "2ed1b44f",
   "metadata": {},
   "outputs": [
    {
     "name": "stdout",
     "output_type": "stream",
     "text": [
      "['apple', 'kiwi', 'cherry', 'mango']\n"
     ]
    }
   ],
   "source": [
    "fruits.remove(\"orange\")\n",
    "print(fruits)\n"
   ]
  },
  {
   "cell_type": "code",
   "execution_count": 6,
   "id": "1e1d5ad4",
   "metadata": {},
   "outputs": [
    {
     "name": "stdout",
     "output_type": "stream",
     "text": [
      "['apple', 'kiwi', 'mango']\n"
     ]
    }
   ],
   "source": [
    "del fruits[2]  # Removes 'cherry'\n",
    "print(fruits)\n"
   ]
  },
  {
   "cell_type": "code",
   "execution_count": 7,
   "id": "4f171754",
   "metadata": {},
   "outputs": [
    {
     "name": "stdout",
     "output_type": "stream",
     "text": [
      "Popped: mango\n",
      "['apple', 'kiwi']\n"
     ]
    }
   ],
   "source": [
    "last_item = fruits.pop()\n",
    "print(\"Popped:\", last_item)\n",
    "print(fruits)\n"
   ]
  },
  {
   "cell_type": "code",
   "execution_count": 9,
   "id": "2b8de068",
   "metadata": {},
   "outputs": [
    {
     "name": "stdout",
     "output_type": "stream",
     "text": [
      "us-east-1\n",
      "['us-east-1', 'eu-west-1', 'ap-southeast-2', 'us-west-2']\n",
      "['us-east-1', 'eu-central-1', 'ap-southeast-2', 'us-west-2']\n"
     ]
    }
   ],
   "source": [
    "# Bài tập thực hành\n",
    "\n",
    "# 1. Tạo danh sách deployment_targets với các giá trị ['us-east-1', 'eu-west-1', 'ap-southeast-2']\n",
    "\n",
    "# 2. In mục tiêu đầu tiên\n",
    "\n",
    "# 3. Thêm 'us-west-2'\n",
    "\n",
    "# 4. Thay đổi phần tử thứ hai thành 'eu-central-1'\n",
    "\n",
    "# 5. In danh sách sau mỗi bước\n",
    "\n",
    "deployment_targets= ['us-east-1', 'eu-west-1', 'ap-southeast-2']\n",
    "print(deployment_targets[0])\n",
    "deployment_targets.append('us-west-2')\n",
    "print(deployment_targets)\n",
    "deployment_targets[1] = 'eu-central-1'\n",
    "print(deployment_targets)\n",
    "\n",
    "\n"
   ]
  }
 ],
 "metadata": {
  "kernelspec": {
   "display_name": ".venv",
   "language": "python",
   "name": "python3"
  },
  "language_info": {
   "codemirror_mode": {
    "name": "ipython",
    "version": 3
   },
   "file_extension": ".py",
   "mimetype": "text/x-python",
   "name": "python",
   "nbconvert_exporter": "python",
   "pygments_lexer": "ipython3",
   "version": "3.11.7"
  }
 },
 "nbformat": 4,
 "nbformat_minor": 5
}
