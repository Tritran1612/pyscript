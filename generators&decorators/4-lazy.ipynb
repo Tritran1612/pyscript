{
 "cells": [
  {
   "cell_type": "code",
   "execution_count": null,
   "id": "d1df7f08",
   "metadata": {},
   "outputs": [
    {
     "name": "stdout",
     "output_type": "stream",
     "text": [
      "Debugging session started for user user59\n",
      "User user77 logged out\n",
      "User user75 logged out\n",
      "User user1 logged in\n",
      "Generator object sizes (in bytes): 232 240 224\n"
     ]
    }
   ],
   "source": [
    "import sys\n",
    "import json\n",
    "\n",
    "\n",
    "def read_logs(filepath):\n",
    "    \"\"\"\n",
    "    Creates a generator that reads a log file, yielding valid, non-comment lines.\n",
    "\n",
    "    Args:\n",
    "        filepath (str): The path to the log file.\n",
    "\n",
    "    Yields:\n",
    "        str: A stripped, non-empty, non-comment line from the file.\n",
    "    \"\"\"\n",
    "    with open(filepath, 'r') as file:\n",
    "        for line in file:\n",
    "            line = line.strip()\n",
    "            if not line:\n",
    "                continue\n",
    "            yield json.loads(line)   # Nó chuyển đổi chuỗi JSON (line) thành một từ điển (dictionary) Python và \"trả về\" nó. \n",
    "\n",
    "\n",
    "\n",
    "\n",
    "def filter_logs(logs, level=None, message_substring=None):\n",
    "\n",
    "    for log in logs:\n",
    "        if (\n",
    "            level is not None and log.get(\"level\", \"\").lower() != level.lower()\n",
    "        ):\n",
    "            continue\n",
    "\n",
    "        if (\n",
    "            message_substring is not None and message_substring.lower() not in log.get(\"message\", \"\").lower()\n",
    "        ):\n",
    "            continue\n",
    "\n",
    "        yield log\n",
    "\n",
    "\n",
    "def extract_field(logs, field=\"message\"):\n",
    "\n",
    "    for log in logs:\n",
    "        yield log.get(field, \"\").strip()\n",
    "\n",
    "\n",
    "def get_first_n(logs, n=10):\n",
    "\n",
    "    count = 0\n",
    "\n",
    "    for log in logs:\n",
    "        if count >= n:\n",
    "            break\n",
    "\n",
    "        yield log\n",
    "        count += 1\n",
    "\n",
    "\n",
    "logs_gen = read_logs(\"large_logs.txt\")\n",
    "filter_gen = filter_logs(logs_gen, message_substring=\"user\")\n",
    "extract_gen = extract_field(filter_gen, \"message\")\n",
    "\n",
    "\n",
    "for log in get_first_n(extract_gen, 4):\n",
    "    print(log)\n",
    "\n",
    "\n",
    "print(\"Generator object sizes (in bytes):\",\n",
    "      sys.getsizeof(logs_gen),\n",
    "      sys.getsizeof(filter_gen),\n",
    "      sys.getsizeof(extract_gen)\n",
    "    )"
   ]
  },
  {
   "cell_type": "code",
   "execution_count": 2,
   "id": "95e6f706",
   "metadata": {},
   "outputs": [
    {
     "data": {
      "text/plain": [
       "{'ts': '2025-05-01 19:00:00+00:00',\n",
       " 'level': 'DEBUG',\n",
       " 'message': 'Debugging session started for user user59'}"
      ]
     },
     "execution_count": 2,
     "metadata": {},
     "output_type": "execute_result"
    }
   ],
   "source": [
    "import sys\n",
    "import json\n",
    "\n",
    "\n",
    "def read_logs(filepath):\n",
    "    \"\"\"\n",
    "    Creates a generator that reads a log file, yielding valid, non-comment lines.\n",
    "\n",
    "    Args:\n",
    "        filepath (str): The path to the log file.\n",
    "\n",
    "    Yields:\n",
    "        str: A stripped, non-empty, non-comment line from the file.\n",
    "    \"\"\"\n",
    "    with open(filepath, 'r') as file:\n",
    "        for line in file:\n",
    "            line = line.strip()\n",
    "            if not line:\n",
    "                continue\n",
    "            yield json.loads(line)\n",
    "\n",
    "logs_gen = read_logs(\"large_logs.txt\")\n",
    "next(logs_gen)"
   ]
  }
 ],
 "metadata": {
  "kernelspec": {
   "display_name": "venv (3.12.3)",
   "language": "python",
   "name": "python3"
  },
  "language_info": {
   "codemirror_mode": {
    "name": "ipython",
    "version": 3
   },
   "file_extension": ".py",
   "mimetype": "text/x-python",
   "name": "python",
   "nbconvert_exporter": "python",
   "pygments_lexer": "ipython3",
   "version": "3.12.3"
  }
 },
 "nbformat": 4,
 "nbformat_minor": 5
}
