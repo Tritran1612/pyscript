{
 "cells": [
  {
   "cell_type": "markdown",
   "id": "c0380ad6",
   "metadata": {},
   "source": [
    "## return"
   ]
  },
  {
   "cell_type": "code",
   "execution_count": 1,
   "id": "7acb78a6",
   "metadata": {},
   "outputs": [
    {
     "name": "stdout",
     "output_type": "stream",
     "text": [
      "regular function start\n",
      "Adding server 0 to the list\n",
      "Adding server 1 to the list\n",
      "Adding server 2 to the list\n",
      "Adding server 3 to the list\n",
      "Adding server 4 to the list\n",
      "regular function end\n",
      "List of servers: ['server 0', 'server 1', 'server 2', 'server 3', 'server 4']\n"
     ]
    }
   ],
   "source": [
    "def get_list_of_numbers():\n",
    "    print(\"regular function start\")\n",
    "    \n",
    "    servers = []\n",
    "    for i in range(5):\n",
    "        server_name = f\"server {i}\"\n",
    "        print(f\"Adding {server_name} to the list\")\n",
    "        servers.append(server_name)\n",
    "    print(\"regular function end\")\n",
    "    \n",
    "    return servers\n",
    "\n",
    "servers = get_list_of_numbers()\n",
    "print(\"List of servers:\", servers)"
   ]
  },
  {
   "cell_type": "markdown",
   "id": "8b259ad6",
   "metadata": {},
   "source": [
    "## yield"
   ]
  },
  {
   "cell_type": "code",
   "execution_count": 6,
   "id": "98d9e3d0",
   "metadata": {},
   "outputs": [
    {
     "name": "stdout",
     "output_type": "stream",
     "text": [
      "Generator function start\n",
      "\tYielding server 0\n",
      "Server Received: server 0\n",
      "\tYielding server 1\n",
      "Server Received: server 1\n",
      "\tYielding server 2\n",
      "Server Received: server 2\n",
      "\tYielding server 3\n",
      "Server Received: server 3\n",
      "\tYielding server 4\n",
      "Server Received: server 4\n",
      "Generator function end\n"
     ]
    }
   ],
   "source": [
    "def yield_numbers(count):\n",
    "    print(\"Generator function start\")\n",
    "    \n",
    "    for i in range(count):\n",
    "        server_name = f\"server {i}\"\n",
    "        print(f\"\\tYielding {server_name}\")\n",
    "        yield server_name\n",
    "        \n",
    "    print(\"Generator function end\")\n",
    "    \n",
    "servers_gen = yield_numbers(5)\n",
    "\n",
    "for server in servers_gen:\n",
    "    print(\"Server Received:\", server)"
   ]
  },
  {
   "cell_type": "markdown",
   "id": "65e3e98a",
   "metadata": {},
   "source": [
    "Hands-on Exercise: Generator vs Regular Function Comparison\n",
    "\n",
    "Goal: Contrast execution flow, timing, and return types of a regular function versus a generator function.\n",
    "\n",
    "Tasks:\n",
    "\n",
    "Implement a regular function that builds and returns a list of data items with simulated work. The function should simulate a small delay when adding each item to the list.\n",
    "\n",
    "Implement a generator function that yields data items one by one with simulated work. The generator should simulate a small delay when yielding each item.\n",
    "\n",
    "Measure and print the duration of the function call and of the iteration for each approach."
   ]
  },
  {
   "cell_type": "code",
   "execution_count": 9,
   "id": "fb5b6ce9",
   "metadata": {},
   "outputs": [
    {
     "name": "stdout",
     "output_type": "stream",
     "text": [
      "Return ['data 0', 'data 1', 'data 2', 'data 3', 'data 4', 'data 5', 'data 6', 'data 7', 'data 8', 'data 9'] in 1.00 seconds\n",
      "Received data 0 in 0.10 seconds\n",
      "Received data 1 in 0.10 seconds\n",
      "Received data 2 in 0.10 seconds\n",
      "Received data 3 in 0.10 seconds\n",
      "Received data 4 in 0.10 seconds\n",
      "Received data 5 in 0.10 seconds\n",
      "Received data 6 in 0.10 seconds\n",
      "Received data 7 in 0.10 seconds\n",
      "Received data 8 in 0.10 seconds\n",
      "Received data 9 in 0.10 seconds\n"
     ]
    }
   ],
   "source": [
    "import time\n",
    "\n",
    "def load_data_eagerly(count, delay=0.1):\n",
    "    \n",
    "    result = []\n",
    "    for i in range(count):\n",
    "        time.sleep(delay)\n",
    "        result.append(f\"data {i}\")\n",
    "\n",
    "    return result\n",
    "\n",
    "t0 = time.time()\n",
    "data = load_data_eagerly(10)\n",
    "t1 = time.time()\n",
    "print(f\"Return {data} in {t1 - t0:.2f} seconds\")    \n",
    "\n",
    "\n",
    "\n",
    "def load_data_lazily(count, delay=0.1):\n",
    "    \n",
    "    result = []\n",
    "    for i in range(count):\n",
    "        time.sleep(delay)\n",
    "        yield f\"data {i}\" \n",
    "\n",
    "    return result\n",
    "\n",
    "data_gen = load_data_lazily(10)\n",
    "\n",
    "while True:\n",
    "    t0 = time.time()\n",
    "    try:\n",
    "        data_item = next(data_gen)\n",
    "    except StopIteration:\n",
    "        break \n",
    "    t1 = time.time()\n",
    "    print(f\"Received {data_item} in {t1 - t0:.2f} seconds\")"
   ]
  }
 ],
 "metadata": {
  "kernelspec": {
   "display_name": "venv (3.12.3)",
   "language": "python",
   "name": "python3"
  },
  "language_info": {
   "codemirror_mode": {
    "name": "ipython",
    "version": 3
   },
   "file_extension": ".py",
   "mimetype": "text/x-python",
   "name": "python",
   "nbconvert_exporter": "python",
   "pygments_lexer": "ipython3",
   "version": "3.12.3"
  }
 },
 "nbformat": 4,
 "nbformat_minor": 5
}
