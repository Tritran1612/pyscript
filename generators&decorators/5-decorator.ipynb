{
 "cells": [
  {
   "cell_type": "markdown",
   "id": "a70c47eb",
   "metadata": {},
   "source": [
    "## Decorator Anatomy\n",
    "\n",
    "- Outer decorator function accepts the target function and creates a wrapper inside it.\n",
    "- The wrapper usually takes *args, **kwargs so it can handle any signature.\n",
    "- Wrapper executes optional \"before\" code, calls the original, maybe does \"after\" code, and returns the original’s result.\n",
    "- Returning the wrapper from the decorator completes the transformation.\n",
    "\n",
    "\n",
    "Using decorators:\n",
    "\n",
    "- Manually wrapping illustrates what @ syntax really does behind the scenes.\n",
    "- This approach is clear but repetitive: @ eliminates the manual reassignment step."
   ]
  },
  {
   "cell_type": "markdown",
   "id": "1053007e",
   "metadata": {},
   "source": [
    "1. *args (Đối số vị trí tùy ý)\n",
    "\n",
    "Khi bạn đặt *args trong định nghĩa hàm, nó sẽ gom tất cả các đối số vị trí được truyền vào thành một tuple.\n",
    "\n",
    "Ví dụ đơn giản: Hàm tính tổng\n",
    "\n",
    "Hãy tưởng tượng bạn muốn viết một hàm tinh_tong có thể cộng 2, 3, 4, hay bao nhiêu số tùy ý."
   ]
  },
  {
   "cell_type": "code",
   "execution_count": 6,
   "id": "c6e0a94a",
   "metadata": {},
   "outputs": [
    {
     "name": "stdout",
     "output_type": "stream",
     "text": [
      "Các đối số được gom vào một tuple: (1, 2)\n",
      "Kiểu dữ liệu của args là: <class 'tuple'>\n",
      "Tổng của 1, 2 là: 3\n",
      "Các đối số được gom vào một tuple: (1, 2, 3, 4, 5)\n",
      "Kiểu dữ liệu của args là: <class 'tuple'>\n",
      "Tổng của 1, 2, 3, 4, 5 là: 15\n"
     ]
    }
   ],
   "source": [
    "def tinh_tong(*args):\n",
    "    print(f\"Các đối số được gom vào một tuple: {args}\")\n",
    "    print(f\"Kiểu dữ liệu của args là: {type(args)}\")\n",
    "    \n",
    "    tong = 0\n",
    "    for so in args:\n",
    "        tong += so\n",
    "    return tong\n",
    "\n",
    "# Gọi hàm với số lượng đối số khác nhau\n",
    "print(\"Tổng của 1, 2 là:\", tinh_tong(1, 2))\n",
    "print(\"Tổng của 1, 2, 3, 4, 5 là:\", tinh_tong(1, 2, 3, 4, 5))"
   ]
  },
  {
   "cell_type": "markdown",
   "id": "38eaa014",
   "metadata": {},
   "source": [
    "2. **kwargs (Đối số từ khóa tùy ý)\n",
    "\n",
    "Tương tự, **kwargs sẽ gom tất cả các đối số từ khóa (có dạng key=value) mà bạn truyền vào thành một dictionary."
   ]
  },
  {
   "cell_type": "code",
   "execution_count": 1,
   "id": "925130b0",
   "metadata": {},
   "outputs": [
    {
     "name": "stdout",
     "output_type": "stream",
     "text": [
      "Thông tin người dùng:\n",
      "Các đối số được gom vào một dictionary: {'ten': 'Alice', 'tuoi': 30, 'thanh_pho': 'Hanoi'}\n",
      "Kiểu dữ liệu của kwargs là: <class 'dict'>\n",
      "- Ten: Alice\n",
      "- Tuoi: 30\n",
      "- Thanh Pho: Hanoi\n",
      "--------------------\n",
      "Thông tin sản phẩm:\n",
      "Các đối số được gom vào một dictionary: {'ten_san_pham': 'Laptop Dell XPS', 'gia': 45000000, 'con_hang': True}\n",
      "Kiểu dữ liệu của kwargs là: <class 'dict'>\n",
      "- Ten San Pham: Laptop Dell XPS\n",
      "- Gia: 45000000\n",
      "- Con Hang: True\n"
     ]
    }
   ],
   "source": [
    "def hien_thi_thong_tin(**kwargs):\n",
    "    print(f\"Các đối số được gom vào một dictionary: {kwargs}\")\n",
    "    print(f\"Kiểu dữ liệu của kwargs là: {type(kwargs)}\")\n",
    "    \n",
    "    for key, value in kwargs.items():\n",
    "        print(f\"- {key.replace('_', ' ').title()}: {value}\")\n",
    "\n",
    "# Gọi hàm với các bộ key-value khác nhau\n",
    "print(\"Thông tin người dùng:\")\n",
    "hien_thi_thong_tin(ten=\"Alice\", tuoi=30, thanh_pho=\"Hanoi\")\n",
    "print(\"-\" * 20)\n",
    "print(\"Thông tin sản phẩm:\")\n",
    "hien_thi_thong_tin(ten_san_pham=\"Laptop Dell XPS\", gia=45000000, con_hang=True)"
   ]
  },
  {
   "cell_type": "code",
   "execution_count": 1,
   "id": "7f1df4cd",
   "metadata": {},
   "outputs": [
    {
     "name": "stdout",
     "output_type": "stream",
     "text": [
      "Calling add with arguments: (3, 4)\n",
      "7\n"
     ]
    }
   ],
   "source": [
    "def my_decorator(func):\n",
    "    def wrapper(*args, **kwargs):\n",
    "        print(f\"Calling {func.__name__} with arguments: {args}\")\n",
    "        return func(*args, **kwargs)\n",
    "    return wrapper\n",
    "\n",
    "@my_decorator\n",
    "def add(a, b):\n",
    "    return a + b\n",
    "\n",
    "print(add(3, 4))\n"
   ]
  },
  {
   "cell_type": "markdown",
   "id": "f30156fc",
   "metadata": {},
   "source": [
    "## Decorators with Arguments\n",
    "\n",
    "- A basic decorator adds fixed behavior; sometimes you need to configure that behaviour (e.g. how many retries, which log level).\n",
    "- You cannot pass options directly to a plain @decorator, because that decorator receives only the target function.\n",
    "- Solution: call a factory that takes options and returns a decorator, then apply it with @factory(option=value)."
   ]
  },
  {
   "cell_type": "code",
   "execution_count": 5,
   "id": "bdd496a3",
   "metadata": {},
   "outputs": [
    {
     "name": "stdout",
     "output_type": "stream",
     "text": [
      "Attempt 1/4\n",
      " Error: Flaky failure\n",
      "Attempt 2/4\n",
      "Result: Success!\n"
     ]
    }
   ],
   "source": [
    "import random\n",
    "\n",
    "def retry(max_attempts=3):\n",
    "    def decorator(func):\n",
    "        def wrapper(*args, **kwargs):\n",
    "            for attempt in range(1, max_attempts + 1):\n",
    "                try:\n",
    "                    print(f\"Attempt {attempt}/{max_attempts}\")\n",
    "                    return func(*args, **kwargs)\n",
    "                except Exception as e:\n",
    "                    print(f\" Error: {e}\")\n",
    "                    if attempt == max_attempts:\n",
    "                        raise\n",
    "\n",
    "        return wrapper\n",
    "    return decorator\n",
    "\n",
    "@retry(4)\n",
    "def sometimes_fails():\n",
    "    if random.random() < 0.7:\n",
    "        raise RuntimeError(\"Flaky failure\")\n",
    "    return \"Success!\"\n",
    "\n",
    "print(f\"Result: {sometimes_fails()}\")"
   ]
  },
  {
   "cell_type": "markdown",
   "id": "46fccd8f",
   "metadata": {},
   "source": [
    "## Decorators & Return Values\n",
    "\n",
    "- A decorator’s wrapper replaces the original function, so if it forgets to return the original result the caller receives None\n",
    "- Fixing this means capturing the result of func(*args, **kwargs) inside the wrapper and returning it unchanged"
   ]
  },
  {
   "cell_type": "code",
   "execution_count": null,
   "id": "db0280db",
   "metadata": {},
   "outputs": [
    {
     "name": "stdout",
     "output_type": "stream",
     "text": [
      "LOG: Calling add\n",
      "LOG: Finished add\n",
      "Result seen by caller: None\n"
     ]
    }
   ],
   "source": [
    "def log_calls_broken(func):\n",
    "    def wrapper(*args, **kwargs):\n",
    "        print(f\"LOG: Calling {func.__name__}\")\n",
    "        func(*args, **kwargs)\n",
    "        print(f\"LOG: Finished {func.__name__}\")\n",
    "    return wrapper\n",
    "\n",
    "@log_calls_broken   # This is equivalent to:\n",
    "def add(x, y):      # add = log_calls_broken(add)\n",
    "    return x + y\n",
    "\n",
    "print(f\"Result seen by caller: {add(2, 3)}\")"
   ]
  }
 ],
 "metadata": {
  "kernelspec": {
   "display_name": "venv (3.12.3)",
   "language": "python",
   "name": "python3"
  },
  "language_info": {
   "codemirror_mode": {
    "name": "ipython",
    "version": 3
   },
   "file_extension": ".py",
   "mimetype": "text/x-python",
   "name": "python",
   "nbconvert_exporter": "python",
   "pygments_lexer": "ipython3",
   "version": "3.12.3"
  }
 },
 "nbformat": 4,
 "nbformat_minor": 5
}
