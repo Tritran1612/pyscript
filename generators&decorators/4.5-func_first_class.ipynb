{
 "cells": [
  {
   "cell_type": "markdown",
   "id": "27c3c7e9",
   "metadata": {},
   "source": [
    "## First-Class Function \n",
    "- Functions can be treated like any other variable.\n",
    "- You can assign them to variables, pass them as arguments, return them from other functions, and store them in data structures."
   ]
  },
  {
   "cell_type": "markdown",
   "id": "9abdeefe",
   "metadata": {},
   "source": [
    "✅ Example 1: Assign Function to a Variable\n"
   ]
  },
  {
   "cell_type": "code",
   "execution_count": 1,
   "id": "c330611c",
   "metadata": {},
   "outputs": [
    {
     "name": "stdout",
     "output_type": "stream",
     "text": [
      "Hello, Alice!\n"
     ]
    }
   ],
   "source": [
    "def greet(name):\n",
    "    return f\"Hello, {name}!\"\n",
    "\n",
    "say_hello = greet  # Assign function to a variable\n",
    "\n",
    "print(say_hello(\"Alice\"))  # Output: Hello, Alice!\n"
   ]
  },
  {
   "cell_type": "markdown",
   "id": "9ff5392a",
   "metadata": {},
   "source": [
    "✅ Example 2: Passing Functions as Arguments\n",
    "\n",
    "- Higher‑order functions accept other callables to customize behavior.\n",
    "- Classic examples: sorted(key=...), event callbacks, retry helpers.\n",
    "- Lets you build flexible pipelines without hard‑coding every step."
   ]
  },
  {
   "cell_type": "code",
   "execution_count": 2,
   "id": "f48b0f5f",
   "metadata": {},
   "outputs": [
    {
     "name": "stdout",
     "output_type": "stream",
     "text": [
      "Applying add to (1, 2)\n",
      "3\n",
      "Applying mul to (1, 2, 3, 4)\n",
      "24\n"
     ]
    }
   ],
   "source": [
    "def apply_operation(operation, *operands):\n",
    "    print(f\"Applying {operation.__name__} to {operands}\")\n",
    "    return operation(*operands)\n",
    "\n",
    "def add(*numbers):\n",
    "    return sum(numbers)\n",
    "\n",
    "def mul(*numbers):\n",
    "    result = 1\n",
    "\n",
    "    for n in numbers:\n",
    "        result *= n\n",
    "\n",
    "    return result\n",
    "\n",
    "print(apply_operation(add, 1, 2))\n",
    "print(apply_operation(mul, 1, 2, 3, 4))"
   ]
  },
  {
   "cell_type": "markdown",
   "id": "24f5df87",
   "metadata": {},
   "source": [
    "✅ Example 3: Returning Functions from Functions\n",
    "\n",
    "- A factory function can create and return a new, customized function.\n",
    "- The returned function “remembers” variables from the factory’s scope: this is a closure.\n",
    "- Great for building tailored validators, loggers, or API clients on the fly."
   ]
  },
  {
   "cell_type": "code",
   "execution_count": 3,
   "id": "9bcb8108",
   "metadata": {},
   "outputs": [
    {
     "name": "stdout",
     "output_type": "stream",
     "text": [
      "Hitting endpoint /users with method GET and auth token alice-token\n",
      "Hitting endpoint /health with method GET and auth token bob-token\n"
     ]
    }
   ],
   "source": [
    "def create_api_client(auth_token):\n",
    "    def api_client(endpoint, method):\n",
    "        return f\"Hitting endpoint {endpoint} with method {method} and auth token {auth_token}\"\n",
    "\n",
    "    return api_client\n",
    "\n",
    "alice_api_client = create_api_client(\"alice-token\")\n",
    "bob_api_client = create_api_client(\"bob-token\")\n",
    "\n",
    "print(alice_api_client(\"/users\", \"GET\"))\n",
    "print(bob_api_client(\"/health\", \"GET\"))"
   ]
  },
  {
   "cell_type": "markdown",
   "id": "ee0b3507",
   "metadata": {},
   "source": [
    "✅ Example 4: Storing Functions in Data Structures\n",
    "\n",
    "- Functions can live inside lists, dicts, sets, and other containers.\n",
    "- Enables command dispatch tables, plugin registries, and processing pipelines."
   ]
  },
  {
   "cell_type": "code",
   "execution_count": 4,
   "id": "bcf65b15",
   "metadata": {},
   "outputs": [
    {
     "name": "stdout",
     "output_type": "stream",
     "text": [
      "Running task B\n",
      "Running task A\n",
      "Running task C\n",
      "Running task B\n"
     ]
    }
   ],
   "source": [
    "def task_A():\n",
    "    print(\"Running task A\")\n",
    "\n",
    "def task_B():\n",
    "    print(\"Running task B\")\n",
    "\n",
    "def task_C():\n",
    "    print(\"Running task C\")\n",
    "\n",
    "pipeline = [task_B, task_A, task_C]\n",
    "\n",
    "for task in pipeline:\n",
    "    task()\n",
    "\n",
    "command_registry = {\n",
    "    \"start\": task_A,\n",
    "    \"process\": task_B,\n",
    "    \"stop\": task_C\n",
    "}\n",
    "command_registry[\"process\"]()"
   ]
  }
 ],
 "metadata": {
  "kernelspec": {
   "display_name": ".venv",
   "language": "python",
   "name": "python3"
  },
  "language_info": {
   "codemirror_mode": {
    "name": "ipython",
    "version": 3
   },
   "file_extension": ".py",
   "mimetype": "text/x-python",
   "name": "python",
   "nbconvert_exporter": "python",
   "pygments_lexer": "ipython3",
   "version": "3.11.7"
  }
 },
 "nbformat": 4,
 "nbformat_minor": 5
}
