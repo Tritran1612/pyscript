{
 "cells": [
  {
   "cell_type": "code",
   "execution_count": 5,
   "id": "48fc9257",
   "metadata": {},
   "outputs": [
    {
     "name": "stdout",
     "output_type": "stream",
     "text": [
      "First call to next:\n",
      "Starting to count up...\n",
      "Remaining calls to next:\n",
      "Current count: 1\n",
      "2\n",
      "Current count: 2\n",
      "3\n",
      "Current count: 3\n",
      "4\n",
      "Current count: 4\n",
      "5\n",
      "Current count: 5\n",
      "Counting completed.\n"
     ]
    }
   ],
   "source": [
    "def count_up(limit):\n",
    "    print(\"Starting to count up...\")\n",
    "    n=1\n",
    "    while n <= limit:\n",
    "        yield n\n",
    "        print(f\"Current count: {n}\")\n",
    "        n += 1\n",
    "    \n",
    "    print(\"Counting completed.\")\n",
    "    \n",
    "count_gen=count_up(5)\n",
    "\n",
    "print(\"First call to next:\")\n",
    "next(count_gen)\n",
    "\n",
    "print(\"Remaining calls to next:\")\n",
    "for number in count_gen:\n",
    "    print(number)   "
   ]
  },
  {
   "cell_type": "code",
   "execution_count": 10,
   "id": "ceef4a9f",
   "metadata": {},
   "outputs": [
    {
     "name": "stdout",
     "output_type": "stream",
     "text": [
      "filter starting...\n",
      "Yielding even number: 0\n",
      "First call to next on evens: 0\n",
      "Yielding even number: 2\n",
      "Received even number: 2\n",
      "Yielding even number: 4\n",
      "Received even number: 4\n",
      "Yielding even number: 6\n",
      "Received even number: 6\n",
      "Yielding even number: 8\n",
      "Received even number: 8\n",
      "filter completed.\n"
     ]
    }
   ],
   "source": [
    "def field_evens(data):\n",
    "    print(\"filter starting...\")\n",
    "    for i in data:\n",
    "        if i % 2 == 0:\n",
    "            print(f\"Yielding even number: {i}\")\n",
    "            yield i\n",
    "    print(\"filter completed.\")\n",
    "\n",
    "evens = field_evens(range(10))\n",
    "print(f\"First call to next on evens: {next(evens)}\")\n",
    "\n",
    "for num in evens:\n",
    "    print(f\"Received even number: {num}\")"
   ]
  }
 ],
 "metadata": {
  "kernelspec": {
   "display_name": ".venv",
   "language": "python",
   "name": "python3"
  },
  "language_info": {
   "codemirror_mode": {
    "name": "ipython",
    "version": 3
   },
   "file_extension": ".py",
   "mimetype": "text/x-python",
   "name": "python",
   "nbconvert_exporter": "python",
   "pygments_lexer": "ipython3",
   "version": "3.11.7"
  }
 },
 "nbformat": 4,
 "nbformat_minor": 5
}
