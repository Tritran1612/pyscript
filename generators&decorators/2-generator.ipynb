{
 "cells": [
  {
   "cell_type": "code",
   "execution_count": 2,
   "id": "48fc9257",
   "metadata": {},
   "outputs": [
    {
     "name": "stdout",
     "output_type": "stream",
     "text": [
      "First call to next:\n",
      "Starting to count up...\n",
      "Remaining calls to next:\n",
      "Current count: 1\n",
      "2\n",
      "Current count: 2\n",
      "3\n",
      "Current count: 3\n",
      "4\n",
      "Current count: 4\n",
      "5\n",
      "Current count: 5\n",
      "Counting completed.\n"
     ]
    }
   ],
   "source": [
    "def count_up(limit):\n",
    "    print(\"Starting to count up...\")\n",
    "    n=1\n",
    "    while n <= limit:\n",
    "        yield n\n",
    "        print(f\"Current count: {n}\")\n",
    "        n += 1\n",
    "    \n",
    "    print(\"Counting completed.\")\n",
    "    \n",
    "count_gen=count_up(5)\n",
    "\n",
    "print(\"First call to next:\")\n",
    "next(count_gen)\n",
    "\n",
    "print(\"Remaining calls to next:\")\n",
    "for number in count_gen:\n",
    "    print(number)   "
   ]
  },
  {
   "cell_type": "markdown",
   "id": "22ace151",
   "metadata": {},
   "source": [
    "Generators\n",
    "----------\n",
    "- Writing a class-based iterator requires __iter__() and __next__(), plus manual state management and StopIteration handling.\n",
    "- Generator functions let you express the same logic in plain Python functions, using yield to produce values one at a time.\n",
    "- Any function with yield becomes a generator: calling it returns a generator object (an iterator) without running its body immediately."
   ]
  },
  {
   "cell_type": "code",
   "execution_count": 3,
   "id": "ceef4a9f",
   "metadata": {},
   "outputs": [
    {
     "name": "stdout",
     "output_type": "stream",
     "text": [
      "filter starting...\n",
      "Yielding even number: 0\n",
      "First call to next on evens: 0\n",
      "Yielding even number: 2\n",
      "Received even number: 2\n",
      "Yielding even number: 4\n",
      "Received even number: 4\n",
      "Yielding even number: 6\n",
      "Received even number: 6\n",
      "Yielding even number: 8\n",
      "Received even number: 8\n",
      "filter completed.\n"
     ]
    }
   ],
   "source": [
    "def field_evens(data):\n",
    "    print(\"filter starting...\")\n",
    "    for i in data:\n",
    "        if i % 2 == 0:\n",
    "            print(f\"Yielding even number: {i}\")\n",
    "            yield i\n",
    "    print(\"filter completed.\")\n",
    "\n",
    "evens = field_evens(range(10))\n",
    "print(f\"First call to next on evens: {next(evens)}\")\n",
    "\n",
    "for num in evens:\n",
    "    print(f\"Received even number: {num}\")"
   ]
  },
  {
   "cell_type": "markdown",
   "id": "5929ca30",
   "metadata": {},
   "source": [
    "How yield Works: Pause and Resume\n",
    "----------\n",
    "- On each next() (or loop iteration), execution runs until it hits yield, returns the value, then pauses with all local state intact.\n",
    "- The next next() call resumes immediately after the yield, preserving variables and the instruction pointer.\n",
    "- When the function ends (no more yield), a StopIteration is raised automatically."
   ]
  },
  {
   "cell_type": "code",
   "execution_count": null,
   "id": "d3633435",
   "metadata": {},
   "outputs": [
    {
     "name": "stdout",
     "output_type": "stream",
     "text": [
      "generator start\n",
      "1\n",
      "yield 1 started\n",
      "2\n",
      "yield 2 started\n",
      "3\n"
     ]
    }
   ],
   "source": [
    "def demo_three_yield():\n",
    "    print(\"generator start\")\n",
    "    yield 1\n",
    "    print(\"yield 1 started\")\n",
    "    yield 2\n",
    "    print(\"yield 2 started\")\n",
    "    yield 3\n",
    "    print(\"generator finished\")\n",
    "\n",
    "alo = demo_three_yield()\n",
    "print(next(alo))\n",
    "print(next(alo))\n",
    "print(next(alo))\n",
    "# print(next(alo)) # Uncommenting will raise a StopIteration Exception because there are no more yields\n"
   ]
  }
 ],
 "metadata": {
  "kernelspec": {
   "display_name": "venv (3.12.3)",
   "language": "python",
   "name": "python3"
  },
  "language_info": {
   "codemirror_mode": {
    "name": "ipython",
    "version": 3
   },
   "file_extension": ".py",
   "mimetype": "text/x-python",
   "name": "python",
   "nbconvert_exporter": "python",
   "pygments_lexer": "ipython3",
   "version": "3.12.3"
  }
 },
 "nbformat": 4,
 "nbformat_minor": 5
}
