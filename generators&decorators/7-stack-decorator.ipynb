{
 "cells": [
  {
   "cell_type": "code",
   "execution_count": null,
   "id": "1b6fce36",
   "metadata": {},
   "outputs": [
    {
     "name": "stdout",
     "output_type": "stream",
     "text": [
      "A before\n",
      "B before\n",
      "  >>> inside function foo\n",
      "B after\n",
      "A after\n",
      "----\n",
      "B before\n",
      "A before\n",
      "  >>> inside function bar\n",
      "A after\n",
      "B after\n"
     ]
    }
   ],
   "source": [
    "from functools import wraps\n",
    "\n",
    "def decorator_A(func):\n",
    "    @wraps(func)\n",
    "    def wrapper(*args, **kwargs):\n",
    "        print(\"A before\")\n",
    "        result = func(*args, **kwargs)\n",
    "        print(\"A after\")\n",
    "        return result\n",
    "    return wrapper\n",
    "\n",
    "def decorator_B(func):\n",
    "    @wraps(func)\n",
    "    def wrapper(*args, **kwargs):\n",
    "        print(\"B before\")\n",
    "        result = func(*args, **kwargs)\n",
    "        print(\"B after\")\n",
    "        return result\n",
    "    return wrapper\n",
    "\n",
    "@decorator_A\n",
    "@decorator_B\n",
    "def foo():\n",
    "    print(\"  >>> inside function foo\")\n",
    "foo = decorator_A(decorator_B(foo))  \n",
    "# Python dịch nó thành: foo = decorator_A(decorator_B(foo)).\n",
    "# Lần này, B là lớp trong và A là lớp ngoài.\n",
    "@decorator_B\n",
    "@decorator_A\n",
    "# Python dịch nó thành: bar = decorator_B(decorator_A(bar)). Lần này, A là lớp trong và B là lớp ngoài.\n",
    "def bar():\n",
    "    print(\"  >>> inside function bar\")\n",
    "\n",
    "foo()\n",
    "\n",
    "print(\"----\")\n",
    "\n",
    "bar()"
   ]
  }
 ],
 "metadata": {
  "kernelspec": {
   "display_name": ".venv",
   "language": "python",
   "name": "python3"
  },
  "language_info": {
   "codemirror_mode": {
    "name": "ipython",
    "version": 3
   },
   "file_extension": ".py",
   "mimetype": "text/x-python",
   "name": "python",
   "nbconvert_exporter": "python",
   "pygments_lexer": "ipython3",
   "version": "3.11.7"
  }
 },
 "nbformat": 4,
 "nbformat_minor": 5
}
