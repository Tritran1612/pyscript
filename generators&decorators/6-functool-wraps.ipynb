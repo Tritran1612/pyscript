{
 "cells": [
  {
   "cell_type": "markdown",
   "id": "91714b4f",
   "metadata": {},
   "source": [
    "## functools.wraps"
   ]
  },
  {
   "cell_type": "code",
   "execution_count": 2,
   "id": "66ca96cd",
   "metadata": {},
   "outputs": [
    {
     "name": "stdout",
     "output_type": "stream",
     "text": [
      "greet\n",
      "Say hello\n"
     ]
    }
   ],
   "source": [
    "from functools import wraps\n",
    "\n",
    "def my_decorator(func):\n",
    "    @wraps(func)\n",
    "    def wrapper(*args, **kwargs):\n",
    "        print(\"Before call\")\n",
    "        return func(*args, **kwargs)\n",
    "    return wrapper\n",
    "\n",
    "@my_decorator\n",
    "def greet():\n",
    "    \"\"\"Say hello\"\"\"\n",
    "    print(\"Hello\")\n",
    "\n",
    "print(greet.__name__)      # ✅ 'greet'\n",
    "print(greet.__doc__)       # ✅ 'Say hello'\n"
   ]
  },
  {
   "cell_type": "code",
   "execution_count": 3,
   "id": "52ac7aab",
   "metadata": {},
   "outputs": [
    {
     "name": "stdout",
     "output_type": "stream",
     "text": [
      "Introspection with @wraps:\n",
      "  __name__: multiply\n",
      "  __doc__: Return the product of two numbers.\n"
     ]
    }
   ],
   "source": [
    "from functools import wraps\n",
    "\n",
    "def correct_decorator(func):\n",
    "    @wraps(func) # Best practice: Always use it!\n",
    "    def wrapper(*args, **kwargs):\n",
    "        return func(*args, **kwargs)\n",
    "    return wrapper\n",
    "\n",
    "@correct_decorator\n",
    "def multiply(a, b):\n",
    "    \"\"\"Return the product of two numbers.\"\"\"\n",
    "    return a * b\n",
    "\n",
    "print(\"Introspection with @wraps:\")\n",
    "print(f\"  __name__: {multiply.__name__}\")\n",
    "print(f\"  __doc__: {multiply.__doc__}\")"
   ]
  }
 ],
 "metadata": {
  "kernelspec": {
   "display_name": ".venv",
   "language": "python",
   "name": "python3"
  },
  "language_info": {
   "codemirror_mode": {
    "name": "ipython",
    "version": 3
   },
   "file_extension": ".py",
   "mimetype": "text/x-python",
   "name": "python",
   "nbconvert_exporter": "python",
   "pygments_lexer": "ipython3",
   "version": "3.11.7"
  }
 },
 "nbformat": 4,
 "nbformat_minor": 5
}
