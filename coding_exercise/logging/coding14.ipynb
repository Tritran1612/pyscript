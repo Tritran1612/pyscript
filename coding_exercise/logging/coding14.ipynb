{
 "cells": [
  {
   "cell_type": "markdown",
   "id": "6a4c4306",
   "metadata": {},
   "source": [
    "Exercise: Basic Script Activity Logger\n",
    "\n",
    "You are a DevOps engineer writing a series of automation scripts. To ensure you have basic visibility into what your scripts are doing, you decide to create a standardized, reusable function to set up a logger for each script.\n",
    "\n",
    "Your task is to implement a function named setup_script_logger that creates, configures, and returns a logger object. This logger will send formatted messages to the console, making it easy to track a script's progress.\n",
    "\n",
    "\n",
    "Functional Requirements:\n",
    "\n",
    "    The function must accept one argument: logger_name (a string).\n",
    "\n",
    "    It must get a logger instance using the provided logger_name.\n",
    "\n",
    "    The logger's main level must be set to INFO.\n",
    "\n",
    "    You must send the log messages to the console via a StreamHandler.\n",
    "\n",
    "    The format of the log lines must be: <TIMESTAMP> - <LEVEL> - <MESSAGE>.\n",
    "\n",
    "        Example: 2023-10-27 10:30:00,123 - INFO - Script started.\n",
    "\n",
    "    The function must return the fully configured logger object.\n",
    "\n",
    "    Make sure to implement input validation:\n",
    "\n",
    "        If logger_name is not a string, the function must raise a TypeError.\n",
    "\n",
    "        If logger_name is an empty string, the function must raise a ValueError.\n",
    "\n",
    "\n",
    "Example Usage:\n",
    "\n",
    "\n",
    "    # In your main script\n",
    "    script_logger = setup_script_logger('deployment_script')\n",
    "     \n",
    "    script_logger.debug(\"This is a debug message. It will not appear.\")\n",
    "    script_logger.info(\"Starting deployment to production.\")\n",
    "    script_logger.warning(\"Network latency is high.\")\n",
    "\n",
    "\n",
    "Example Output:\n",
    "\n",
    "\n",
    "    2023-10-27 10:30:00,123 - INFO - Starting deployment to production.\n",
    "    2023-10-27 10:30:01,456 - WARNING - Network latency is high.\n",
    "\n",
    "\n",
    "How Your Solution Will Be Tested:\n",
    "\n",
    "    The function will be called, and the returned logger will be inspected to ensure it has the correct level (INFO).\n",
    "\n",
    "    The logger's handler will be checked to ensure it is a StreamHandler.\n",
    "\n",
    "    The handler's formatter will be checked to ensure it produces messages in the specified format.\n",
    "\n",
    "    The logger will be used to emit messages of different levels (DEBUG, INFO, ERROR), and the output will be checked to confirm that only messages of INFO level and above are visible.\n",
    "\n",
    "    Invalid input for logger_name (non-string or empty string) will be tested to ensure the correct exceptions are raised."
   ]
  },
  {
   "cell_type": "code",
   "execution_count": 4,
   "id": "90dc9ee3",
   "metadata": {},
   "outputs": [
    {
     "name": "stdout",
     "output_type": "stream",
     "text": [
      "2025-07-28 13:57:40,070 - INFO - Starting deployment to production.\n",
      "2025-07-28 13:57:40,071 - WARNING - Network latency is high.\n"
     ]
    }
   ],
   "source": [
    "import logging\n",
    "import sys\n",
    "\n",
    "def setup_script_logger(logger_name):\n",
    "    # Input validation\n",
    "    if not isinstance(logger_name, str):\n",
    "        raise TypeError(\"logger_name must be a string\")\n",
    "    if not logger_name.strip():\n",
    "        raise ValueError(\"logger_name cannot be an empty string\")\n",
    "    \n",
    "    logger = logging.getLogger(logger_name)\n",
    "    logger.setLevel(logging.INFO)\n",
    "\n",
    "    # Avoid adding multiple handlers if the logger already has some\n",
    "    if not logger.handlers:\n",
    "        handler = logging.StreamHandler(sys.stdout)\n",
    "        handler.setLevel(logging.INFO)\n",
    "\n",
    "        # Format: <TIMESTAMP> - <LEVEL> - <MESSAGE>\n",
    "        formatter = logging.Formatter('%(asctime)s - %(levelname)s - %(message)s')\n",
    "        handler.setFormatter(formatter)\n",
    "\n",
    "        logger.addHandler(handler)\n",
    "\n",
    "    return logger\n",
    "\n",
    "if __name__ == \"__main__\":\n",
    "    script_logger = setup_script_logger('deployment_script')\n",
    "    script_logger.debug(\"This is a debug message. It will not appear.\")\n",
    "    script_logger.info(\"Starting deployment to production.\")\n",
    "    script_logger.warning(\"Network latency is high.\")\n",
    "\n",
    "\n",
    "\n"
   ]
  },
  {
   "cell_type": "code",
   "execution_count": null,
   "id": "f1d9329f",
   "metadata": {},
   "outputs": [],
   "source": []
  },
  {
   "cell_type": "code",
   "execution_count": null,
   "id": "fbe281bc",
   "metadata": {},
   "outputs": [],
   "source": []
  },
  {
   "cell_type": "code",
   "execution_count": null,
   "id": "77364c3c",
   "metadata": {},
   "outputs": [],
   "source": []
  }
 ],
 "metadata": {
  "kernelspec": {
   "display_name": "venv (3.12.3)",
   "language": "python",
   "name": "python3"
  },
  "language_info": {
   "codemirror_mode": {
    "name": "ipython",
    "version": 3
   },
   "file_extension": ".py",
   "mimetype": "text/x-python",
   "name": "python",
   "nbconvert_exporter": "python",
   "pygments_lexer": "ipython3",
   "version": "3.12.3"
  }
 },
 "nbformat": 4,
 "nbformat_minor": 5
}
