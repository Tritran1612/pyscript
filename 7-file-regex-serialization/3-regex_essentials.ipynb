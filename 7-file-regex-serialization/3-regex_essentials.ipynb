{
 "cells": [
  {
   "cell_type": "markdown",
   "id": "16b313a7",
   "metadata": {},
   "source": [
    "# Regex Essentials: Overview\n",
    "\n",
    "- Regular expressions (regex) are a language for defining text search patterns.\n",
    "- Python’s `re` module provides functions like `search` (find anywhere) and `match` (anchored at start).\n",
    "- Patterns include literals, metacharacters (`. ^ $ * + ? [] \\`), character classes (`\\d`, `\\w`, `\\s`), and quantifiers (`*, +, ?, {n,m}`).\n",
    "- Greedy quantifiers (`*, +`) match as much as possible; non-greedy (`*?, +?`) as little as possible.\n"
   ]
  },
  {
   "cell_type": "markdown",
   "id": "d756a934",
   "metadata": {},
   "source": [
    "# Introduction to `re.search()` vs `re.match()`\n",
    "\n",
    "\n",
    "- `re.search(pattern, text)` scans the entire string for the first occurrence.\n",
    "- `re.match(pattern, text)` checks only at the beginning of the string.\n",
    "- `re.findall()` and `re.finditer()` let you retrieve every occurrence of a pattern.\n",
    "- Always use raw strings (`r\"...\"`) to define regex patterns, avoiding Python string escapes interfering with regex.\n"
   ]
  },
  {
   "cell_type": "code",
   "execution_count": 1,
   "id": "7495ba50",
   "metadata": {},
   "outputs": [
    {
     "name": "stdout",
     "output_type": "stream",
     "text": [
      "0912345678\n"
     ]
    }
   ],
   "source": [
    "import re\n",
    "\n",
    "text = \"My phone number is 0912345678\"\n",
    "match = re.search(r'\\d{10}', text)\n",
    "if match:\n",
    "    print(match.group())  # Output: 0912345678\n"
   ]
  },
  {
   "cell_type": "markdown",
   "id": "32d7b47f",
   "metadata": {},
   "source": [
    "\n",
    "# Common Metacharacters\n",
    "\n",
    "- `.` matches any character (except newline).\n",
    "- `^` anchors at start of string.\n",
    "- `$` anchors at end of string.\n",
    "- `[]`defines a set or range of characters, e.g. [A-Z].\n",
    "- `\\` escapes metacharacters or introduces special sequences.\n",
    "\n"
   ]
  },
  {
   "cell_type": "code",
   "execution_count": 2,
   "id": "c1c424a4",
   "metadata": {},
   "outputs": [
    {
     "name": "stdout",
     "output_type": "stream",
     "text": [
      "Dot matches any character: ['code', 'cxge']\n",
      "Start anchor (finds): ['Error']\n",
      "Start anchor (does not find): []\n",
      "End anchor: ['cxge']\n",
      "Character set: ['E', 'E1234']\n"
     ]
    }
   ],
   "source": [
    "import re\n",
    "\n",
    "test = \"Error code: E1234. cxge\"\n",
    "\n",
    "print(f\"Dot matches any character: {re.findall(r\"c..e\", test)}\")\n",
    "print(f\"Start anchor (finds): {re.findall(r\"^Error\", test)}\")\n",
    "print(f\"Start anchor (does not find): {re.findall(r\"^E1234\", test)}\")\n",
    "print(f\"End anchor: {re.findall(r\"cxge$\", test)}\")\n",
    "print(f\"Character set: {re.findall(r\"[E0-9]+\", test)}\")\n"
   ]
  }
 ],
 "metadata": {
  "kernelspec": {
   "display_name": "venv (3.12.3)",
   "language": "python",
   "name": "python3"
  },
  "language_info": {
   "codemirror_mode": {
    "name": "ipython",
    "version": 3
   },
   "file_extension": ".py",
   "mimetype": "text/x-python",
   "name": "python",
   "nbconvert_exporter": "python",
   "pygments_lexer": "ipython3",
   "version": "3.12.3"
  }
 },
 "nbformat": 4,
 "nbformat_minor": 5
}
