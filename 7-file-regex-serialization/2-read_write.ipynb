{
 "cells": [
  {
   "cell_type": "markdown",
   "id": "eda09d63",
   "metadata": {},
   "source": [
    "\n",
    "# Read/Write Text Files\n",
    "\n",
    "- Use `open()` to read/write text files with proper modes and encoding.\n",
    "- Specify `encoding='utf-8'` for portability.\n",
    "- Leverage `with` to ensure files close automatically.\n",
    "- Read via iteration, `.read()`, `.readline()`, `.readlines()`\n",
    "- Write via `.write()` or `.writelines()`, managing newlines manually.\n",
    "\n"
   ]
  },
  {
   "cell_type": "code",
   "execution_count": 1,
   "id": "85b13794",
   "metadata": {},
   "outputs": [
    {
     "name": "stdout",
     "output_type": "stream",
     "text": [
      "Contents of file:\n",
      "Setting=Value\n",
      "Other=Another\n",
      "\n"
     ]
    }
   ],
   "source": [
    "try:\n",
    "    with open(\"config.txt\", \"w\", encoding=\"utf-8\") as file:\n",
    "        file.write(\"Setting=Value\\n\")\n",
    "        file.write(\"Other=Another\\n\")\n",
    "\n",
    "    with open(\"config.txt\", \"r\", encoding=\"utf-8\") as file:\n",
    "        content = file.read()\n",
    "        print(f\"Contents of file:\")\n",
    "        print(content)\n",
    "except OSError as e:\n",
    "    print(f\"File error: {e}\")\n",
    "\n"
   ]
  },
  {
   "cell_type": "markdown",
   "id": "38162068",
   "metadata": {},
   "source": [
    "# File Modes\n",
    "\n",
    "- `'r'`: read text (default), error if file missing.\n",
    "- `'w'`: write text, create or truncate.\n",
    "- `'a'`: append text, create if missing.\n",
    "- `'x'`: exclusive create, error if exists (good to prevent overwrites).\n",
    "- `'b'`: binary mode variant (e.g. 'rb', 'wb').\n",
    "- `'+'`: update mode, allows read/write (e.g. 'r+', 'w+').\n"
   ]
  },
  {
   "cell_type": "code",
   "execution_count": 2,
   "id": "760d8438",
   "metadata": {},
   "outputs": [
    {
     "name": "stdout",
     "output_type": "stream",
     "text": [
      "[Errno 17] File exists: 'mode_demo.txt'\n"
     ]
    }
   ],
   "source": [
    "\n",
    "\n",
    "from pathlib import Path\n",
    "\n",
    "path = Path(\"mode_demo.txt\")\n",
    "\n",
    "with path.open(mode=\"w\", encoding=\"utf-8\") as file:\n",
    "    file.write(\"Initial line\\n\")\n",
    "\n",
    "with path.open(mode=\"a\", encoding=\"utf-8\") as file:\n",
    "    file.write(\"Appended line\\n\")\n",
    "\n",
    "try:\n",
    "    with path.open(mode=\"x\", encoding=\"utf-8\") as file:\n",
    "        file.write(\"This will fail if file exists\\n\")\n",
    "except FileExistsError as e:\n",
    "    print(e)\n",
    "\n"
   ]
  },
  {
   "cell_type": "markdown",
   "id": "0f0161f9",
   "metadata": {},
   "source": [
    "## Reading Text Files\n",
    "\n",
    "    Iteration: for line in f:\n",
    "        When to use: Ideal for processing large files line by line without loading the entire file into memory; lazy and very memory-efficient.\n",
    "\n",
    "    f.read(size = -1)\n",
    "        size can be used to specify the maximum number of characters to read; if negative or omitted, reads the entire file.\n",
    "        When to use: When you need to grab a chunk of text (e.g. next 1024 chars). Good for bulk reads; but beware of high memory usage if you read the whole file at once.\n",
    "\n",
    "    f.readline(size = -1)\n",
    "        size can be used to specify the maximum number of characters to read from the line; if negative or omitted, reads the full line up to and including the newline.\n",
    "        When to use: When you want one line at a time but need to guard against overly long lines. Returns an empty string when you reach EOF.\n",
    "\n",
    "    f.readlines(hint = -1)\n",
    "        hint can be used to define the approximate total number of bytes to read; if negative or omitted, reads all lines.\n",
    "        When to use: When the file is small or moderate in size and you want a list of all lines for easy indexing or list comprehensions. Not recommended for very large files (may exhaust memory).\n",
    "\n"
   ]
  },
  {
   "cell_type": "code",
   "execution_count": 3,
   "id": "b9bf102e",
   "metadata": {},
   "outputs": [
    {
     "name": "stdout",
     "output_type": "stream",
     "text": [
      "Iteration for reading:\n",
      " -> First\n",
      " -> Second\n",
      " -> Third\n",
      "read() for reading:\n",
      "First\n",
      "Second\n",
      "Third\n",
      "\n",
      "readline() for reading:\n",
      "First\n",
      "\n",
      "readlines() for reading:\n",
      "['First\\n', 'Second\\n', 'Third\\n']\n"
     ]
    }
   ],
   "source": [
    "from pathlib import Path\n",
    "\n",
    "sample = Path(\"read_demo.txt\")\n",
    "sample.write_text(\"First\\nSecond\\nThird\\n\", encoding=\"utf-8\")\n",
    "\n",
    "print(\"Iteration for reading:\")\n",
    "with sample.open(mode=\"r\", encoding=\"utf-8\") as file:\n",
    "    for line in file:\n",
    "        print(f\" -> {line.strip()}\")\n",
    "\n",
    "print(\"read() for reading:\")\n",
    "with sample.open(mode=\"r\", encoding=\"utf-8\") as file:\n",
    "    print(file.read())\n",
    "\n",
    "print(\"readline() for reading:\")\n",
    "with sample.open(mode=\"r\", encoding=\"utf-8\") as file:\n",
    "    print(file.readline())\n",
    "\n",
    "print(\"readlines() for reading:\")\n",
    "with sample.open(mode=\"r\", encoding=\"utf-8\") as file:\n",
    "    print(file.readlines())"
   ]
  },
  {
   "cell_type": "markdown",
   "id": "4f06b434",
   "metadata": {},
   "source": [
    "\n",
    "Writing Text Files\n",
    "\n",
    "    f.write(s)\n",
    "        s is the string to write; does not add a newline automatically.\n",
    "        When to use: When writing single strings or building content piece by piece. Returns the number of characters written, so you can verify success.\n",
    "\n",
    "    f.writelines(lines: Iterable[str]) -> None\n",
    "        lines can be any iterable of strings; does not add newlines for you.\n",
    "        When to use: When you need to write a batch of strings at once (for example, a list of CSV rows). It's more efficient than multiple calls to .write(), but you must include \\n at the end of each string if you want line breaks.\n",
    "\n"
   ]
  },
  {
   "cell_type": "code",
   "execution_count": 4,
   "id": "832bdfc6",
   "metadata": {},
   "outputs": [],
   "source": [
    "\n",
    "\n",
    "from pathlib import Path\n",
    "\n",
    "write_demo = Path(\"write_demo.txt\")\n",
    "\n",
    "with write_demo.open(mode=\"w\", encoding=\"utf-8\") as file:\n",
    "    file.write(\"Line A\\n\")\n",
    "    file.write(\"Line B\\n\")\n",
    "\n",
    "lines_to_write = [\n",
    "    \"user,ip,role\",\n",
    "    \"alice,10.0.0.0,admin\",\n",
    "    \"bob,10.0.0.1,dev\",\n",
    "    \"charlie,10.0.02,audit\"\n",
    "]\n",
    "with write_demo.open(mode=\"w\", encoding=\"utf-8\") as file:\n",
    "    file.writelines(f\"{line}\\n\" for line in lines_to_write)\n",
    "\n"
   ]
  }
 ],
 "metadata": {
  "kernelspec": {
   "display_name": "venv (3.12.3)",
   "language": "python",
   "name": "python3"
  },
  "language_info": {
   "codemirror_mode": {
    "name": "ipython",
    "version": 3
   },
   "file_extension": ".py",
   "mimetype": "text/x-python",
   "name": "python",
   "nbconvert_exporter": "python",
   "pygments_lexer": "ipython3",
   "version": "3.12.3"
  }
 },
 "nbformat": 4,
 "nbformat_minor": 5
}
