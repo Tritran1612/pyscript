{
 "cells": [
  {
   "cell_type": "markdown",
   "id": "f7462bf5",
   "metadata": {},
   "source": []
  },
  {
   "cell_type": "code",
   "execution_count": 1,
   "id": "194fe04b",
   "metadata": {},
   "outputs": [
    {
     "name": "stdout",
     "output_type": "stream",
     "text": [
      "Config file path: settings.yaml\n"
     ]
    }
   ],
   "source": [
    "from pathlib import Path\n",
    "\n",
    "config_dir = Path(\".\")\n",
    "filename = \"settings.yaml\"\n",
    "\n",
    "print(f\"Config file path: {config_dir / filename}\")"
   ]
  },
  {
   "cell_type": "markdown",
   "id": "926e3e33",
   "metadata": {},
   "source": []
  },
  {
   "cell_type": "code",
   "execution_count": 4,
   "id": "962c0bc9",
   "metadata": {},
   "outputs": [
    {
     "name": "stdout",
     "output_type": "stream",
     "text": [
      "Service log path: /var/log/service.log\n",
      "Service log exists: False\n",
      "parent directory: /var/log\n"
     ]
    }
   ],
   "source": [
    "service_log = Path(\"/var/log/service.log\")\n",
    "print(f\"Service log path: {service_log}\")\n",
    "print(f\"Service log exists: {service_log.exists()}\")\n",
    "print(f\"parent directory: {service_log.parent}\")"
   ]
  },
  {
   "cell_type": "markdown",
   "id": "32a781fa",
   "metadata": {},
   "source": []
  },
  {
   "cell_type": "code",
   "execution_count": 6,
   "id": "3a07cd19",
   "metadata": {},
   "outputs": [
    {
     "name": "stdout",
     "output_type": "stream",
     "text": [
      "Immediate children:\n",
      "  1-fundamentals - True\n",
      "  4_logging - True\n",
      "  .ipynb_checkpoints - True\n",
      "  venv - True\n",
      "  functions.ipynb - False\n",
      "Python files recursively:\n",
      "  ../functions.ipynb\n",
      "  ../1-fundamentals/args-kwargs.ipynb\n",
      "  ../1-fundamentals/enumerate.ipynb\n",
      "  ../1-fundamentals/string.ipynb\n",
      "  ../1-fundamentals/zip.ipynb\n",
      "  ../1-fundamentals/set.ipynb\n",
      "  ../1-fundamentals/tuples.ipynb\n",
      "  ../1-fundamentals/functions.ipynb\n",
      "  ../1-fundamentals/range.ipynb\n",
      "  ../1-fundamentals/dictionary.ipynb\n",
      "  ../1-fundamentals/variables.ipynb\n"
     ]
    }
   ],
   "source": [
    "course_parent = Path(\"..\")\n",
    "\n",
    "print(\"Immediate children:\")\n",
    "\n",
    "for i, child in enumerate(course_parent.iterdir()):\n",
    "    print(f\"  {child.name} - {child.is_dir()}\")\n",
    "    if i >= 4: break\n",
    "\n",
    "print(\"Python files recursively:\")\n",
    "\n",
    "for i, child in enumerate(course_parent.glob(\"**/*.ipynb\")):\n",
    "    print(f\"  {child}\")\n",
    "    if i >= 10: break"
   ]
  },
  {
   "cell_type": "markdown",
   "id": "389bf226",
   "metadata": {},
   "source": [
    "# Reading and Writing Files with Path\n",
    "\n",
    "`.write_text()` and `.read_text()` handle simple text I/O.\n",
    "- Use `p.open(mode=\"a\")` for more control (e.g., appending, binary mode).\n",
    "- Path methods automatically manage file open/close.\n",
    "\n"
   ]
  },
  {
   "cell_type": "code",
   "execution_count": 10,
   "id": "3b096f51",
   "metadata": {},
   "outputs": [
    {
     "name": "stdout",
     "output_type": "stream",
     "text": [
      "Read back: Hello, World!\n",
      "After appending: Hello, World!\n",
      "Appending some text.\n"
     ]
    }
   ],
   "source": [
    "test_file = Path(\"test.txt\")\n",
    "test_file.write_text(\"Hello, World!\")\n",
    "print(f\"Read back: {test_file.read_text(encoding='utf-8')}\")\n",
    "\n",
    "with test_file.open(mode=\"a\") as f:\n",
    "    f.write(\"\\nAppending some text.\")\n",
    "print(f\"After appending: {test_file.read_text(encoding='utf-8')}\")"
   ]
  }
 ],
 "metadata": {
  "kernelspec": {
   "display_name": "venv (3.12.3)",
   "language": "python",
   "name": "python3"
  },
  "language_info": {
   "codemirror_mode": {
    "name": "ipython",
    "version": 3
   },
   "file_extension": ".py",
   "mimetype": "text/x-python",
   "name": "python",
   "nbconvert_exporter": "python",
   "pygments_lexer": "ipython3",
   "version": "3.12.3"
  }
 },
 "nbformat": 4,
 "nbformat_minor": 5
}
